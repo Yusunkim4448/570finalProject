{
  "nbformat": 4,
  "nbformat_minor": 0,
  "metadata": {
    "colab": {
      "provenance": [],
      "authorship_tag": "ABX9TyPqPIQhiI5+bX36K3bV7nxM",
      "include_colab_link": true
    },
    "kernelspec": {
      "name": "python3",
      "display_name": "Python 3"
    },
    "language_info": {
      "name": "python"
    }
  },
  "cells": [
    {
      "cell_type": "markdown",
      "metadata": {
        "id": "view-in-github",
        "colab_type": "text"
      },
      "source": [
        "<a href=\"https://colab.research.google.com/github/Yusunkim4448/570finalProject/blob/main/final.ipynb\" target=\"_parent\"><img src=\"https://colab.research.google.com/assets/colab-badge.svg\" alt=\"Open In Colab\"/></a>"
      ]
    },
    {
      "cell_type": "code",
      "source": [
        "!pip install scikit-learn\n",
        "from sklearn import datasets\n",
        "import sklearn\n",
        "print(sklearn.__version__)\n"
      ],
      "metadata": {
        "colab": {
          "base_uri": "https://localhost:8080/"
        },
        "id": "cMwdILWyxJt9",
        "outputId": "b1051435-99e8-498e-9a97-07f281917122"
      },
      "execution_count": 16,
      "outputs": [
        {
          "output_type": "stream",
          "name": "stdout",
          "text": [
            "Requirement already satisfied: scikit-learn in /usr/local/lib/python3.10/dist-packages (1.5.2)\n",
            "Requirement already satisfied: numpy>=1.19.5 in /usr/local/lib/python3.10/dist-packages (from scikit-learn) (1.26.4)\n",
            "Requirement already satisfied: scipy>=1.6.0 in /usr/local/lib/python3.10/dist-packages (from scikit-learn) (1.13.1)\n",
            "Requirement already satisfied: joblib>=1.2.0 in /usr/local/lib/python3.10/dist-packages (from scikit-learn) (1.4.2)\n",
            "Requirement already satisfied: threadpoolctl>=3.1.0 in /usr/local/lib/python3.10/dist-packages (from scikit-learn) (3.5.0)\n",
            "1.5.2\n"
          ]
        }
      ]
    },
    {
      "cell_type": "code",
      "source": [
        "from sentence_transformers import SentenceTransformer\n",
        "from sklearn.metrics.pairwise import cosine_similarity\n",
        "simcse_model = SentenceTransformer('sentence-transformers/all-MiniLM-L6-v2')\n",
        "diffcse_model = SentenceTransformer('voidism/diffcse-bert-base-uncased-trans')\n",
        "sentences = [\n",
        "    \"The team showed incredible teamwork throughout the match.\",\n",
        "    \"The players worked together seam-lessly during the entire game.\"\n",
        "]\n",
        "simcse_embeddings = simcse_model.encode(sentences)\n",
        "diffcse_embeddings = diffcse_model.encode(sentences)\n",
        "similarity_simcse = cosine_similarity([simcse_embeddings[0]], [simcse_embeddings[1]])\n",
        "similarity_diffcse = cosine_similarity([diffcse_embeddings[0]], [diffcse_embeddings[1]])\n",
        "print(f\"Cosine similarity using SimCSE: {similarity_simcse[0][0]:.4f}\")\n",
        "print(f\"Cosine similarity using DiffCSE: {similarity_diffcse[0][0]:.4f}\")"
      ],
      "metadata": {
        "colab": {
          "base_uri": "https://localhost:8080/"
        },
        "id": "w78VWA3ZxPNu",
        "outputId": "877da1d0-137c-47c3-cd60-7260a59fbdff"
      },
      "execution_count": 17,
      "outputs": [
        {
          "output_type": "stream",
          "name": "stderr",
          "text": [
            "WARNING:sentence_transformers.SentenceTransformer:No sentence-transformers model found with name voidism/diffcse-bert-base-uncased-trans. Creating a new one with mean pooling.\n",
            "Some weights of the model checkpoint at voidism/diffcse-bert-base-uncased-trans were not used when initializing BertModel: ['aux_bert.embeddings.LayerNorm.bias', 'aux_bert.embeddings.LayerNorm.weight', 'aux_bert.embeddings.position_embeddings.weight', 'aux_bert.embeddings.position_ids', 'aux_bert.embeddings.token_type_embeddings.weight', 'aux_bert.embeddings.word_embeddings.weight', 'aux_bert.encoder.layer.0.attention.output.LayerNorm.bias', 'aux_bert.encoder.layer.0.attention.output.LayerNorm.weight', 'aux_bert.encoder.layer.0.attention.output.dense.bias', 'aux_bert.encoder.layer.0.attention.output.dense.weight', 'aux_bert.encoder.layer.0.attention.self.key.bias', 'aux_bert.encoder.layer.0.attention.self.key.weight', 'aux_bert.encoder.layer.0.attention.self.query.bias', 'aux_bert.encoder.layer.0.attention.self.query.weight', 'aux_bert.encoder.layer.0.attention.self.value.bias', 'aux_bert.encoder.layer.0.attention.self.value.weight', 'aux_bert.encoder.layer.0.intermediate.dense.bias', 'aux_bert.encoder.layer.0.intermediate.dense.weight', 'aux_bert.encoder.layer.0.output.LayerNorm.bias', 'aux_bert.encoder.layer.0.output.LayerNorm.weight', 'aux_bert.encoder.layer.0.output.dense.bias', 'aux_bert.encoder.layer.0.output.dense.weight', 'aux_bert.encoder.layer.1.attention.output.LayerNorm.bias', 'aux_bert.encoder.layer.1.attention.output.LayerNorm.weight', 'aux_bert.encoder.layer.1.attention.output.dense.bias', 'aux_bert.encoder.layer.1.attention.output.dense.weight', 'aux_bert.encoder.layer.1.attention.self.key.bias', 'aux_bert.encoder.layer.1.attention.self.key.weight', 'aux_bert.encoder.layer.1.attention.self.query.bias', 'aux_bert.encoder.layer.1.attention.self.query.weight', 'aux_bert.encoder.layer.1.attention.self.value.bias', 'aux_bert.encoder.layer.1.attention.self.value.weight', 'aux_bert.encoder.layer.1.intermediate.dense.bias', 'aux_bert.encoder.layer.1.intermediate.dense.weight', 'aux_bert.encoder.layer.1.output.LayerNorm.bias', 'aux_bert.encoder.layer.1.output.LayerNorm.weight', 'aux_bert.encoder.layer.1.output.dense.bias', 'aux_bert.encoder.layer.1.output.dense.weight', 'aux_bert.encoder.layer.10.attention.output.LayerNorm.bias', 'aux_bert.encoder.layer.10.attention.output.LayerNorm.weight', 'aux_bert.encoder.layer.10.attention.output.dense.bias', 'aux_bert.encoder.layer.10.attention.output.dense.weight', 'aux_bert.encoder.layer.10.attention.self.key.bias', 'aux_bert.encoder.layer.10.attention.self.key.weight', 'aux_bert.encoder.layer.10.attention.self.query.bias', 'aux_bert.encoder.layer.10.attention.self.query.weight', 'aux_bert.encoder.layer.10.attention.self.value.bias', 'aux_bert.encoder.layer.10.attention.self.value.weight', 'aux_bert.encoder.layer.10.intermediate.dense.bias', 'aux_bert.encoder.layer.10.intermediate.dense.weight', 'aux_bert.encoder.layer.10.output.LayerNorm.bias', 'aux_bert.encoder.layer.10.output.LayerNorm.weight', 'aux_bert.encoder.layer.10.output.dense.bias', 'aux_bert.encoder.layer.10.output.dense.weight', 'aux_bert.encoder.layer.11.attention.output.LayerNorm.bias', 'aux_bert.encoder.layer.11.attention.output.LayerNorm.weight', 'aux_bert.encoder.layer.11.attention.output.dense.bias', 'aux_bert.encoder.layer.11.attention.output.dense.weight', 'aux_bert.encoder.layer.11.attention.self.key.bias', 'aux_bert.encoder.layer.11.attention.self.key.weight', 'aux_bert.encoder.layer.11.attention.self.query.bias', 'aux_bert.encoder.layer.11.attention.self.query.weight', 'aux_bert.encoder.layer.11.attention.self.value.bias', 'aux_bert.encoder.layer.11.attention.self.value.weight', 'aux_bert.encoder.layer.11.intermediate.dense.bias', 'aux_bert.encoder.layer.11.intermediate.dense.weight', 'aux_bert.encoder.layer.11.output.LayerNorm.bias', 'aux_bert.encoder.layer.11.output.LayerNorm.weight', 'aux_bert.encoder.layer.11.output.dense.bias', 'aux_bert.encoder.layer.11.output.dense.weight', 'aux_bert.encoder.layer.2.attention.output.LayerNorm.bias', 'aux_bert.encoder.layer.2.attention.output.LayerNorm.weight', 'aux_bert.encoder.layer.2.attention.output.dense.bias', 'aux_bert.encoder.layer.2.attention.output.dense.weight', 'aux_bert.encoder.layer.2.attention.self.key.bias', 'aux_bert.encoder.layer.2.attention.self.key.weight', 'aux_bert.encoder.layer.2.attention.self.query.bias', 'aux_bert.encoder.layer.2.attention.self.query.weight', 'aux_bert.encoder.layer.2.attention.self.value.bias', 'aux_bert.encoder.layer.2.attention.self.value.weight', 'aux_bert.encoder.layer.2.intermediate.dense.bias', 'aux_bert.encoder.layer.2.intermediate.dense.weight', 'aux_bert.encoder.layer.2.output.LayerNorm.bias', 'aux_bert.encoder.layer.2.output.LayerNorm.weight', 'aux_bert.encoder.layer.2.output.dense.bias', 'aux_bert.encoder.layer.2.output.dense.weight', 'aux_bert.encoder.layer.3.attention.output.LayerNorm.bias', 'aux_bert.encoder.layer.3.attention.output.LayerNorm.weight', 'aux_bert.encoder.layer.3.attention.output.dense.bias', 'aux_bert.encoder.layer.3.attention.output.dense.weight', 'aux_bert.encoder.layer.3.attention.self.key.bias', 'aux_bert.encoder.layer.3.attention.self.key.weight', 'aux_bert.encoder.layer.3.attention.self.query.bias', 'aux_bert.encoder.layer.3.attention.self.query.weight', 'aux_bert.encoder.layer.3.attention.self.value.bias', 'aux_bert.encoder.layer.3.attention.self.value.weight', 'aux_bert.encoder.layer.3.intermediate.dense.bias', 'aux_bert.encoder.layer.3.intermediate.dense.weight', 'aux_bert.encoder.layer.3.output.LayerNorm.bias', 'aux_bert.encoder.layer.3.output.LayerNorm.weight', 'aux_bert.encoder.layer.3.output.dense.bias', 'aux_bert.encoder.layer.3.output.dense.weight', 'aux_bert.encoder.layer.4.attention.output.LayerNorm.bias', 'aux_bert.encoder.layer.4.attention.output.LayerNorm.weight', 'aux_bert.encoder.layer.4.attention.output.dense.bias', 'aux_bert.encoder.layer.4.attention.output.dense.weight', 'aux_bert.encoder.layer.4.attention.self.key.bias', 'aux_bert.encoder.layer.4.attention.self.key.weight', 'aux_bert.encoder.layer.4.attention.self.query.bias', 'aux_bert.encoder.layer.4.attention.self.query.weight', 'aux_bert.encoder.layer.4.attention.self.value.bias', 'aux_bert.encoder.layer.4.attention.self.value.weight', 'aux_bert.encoder.layer.4.intermediate.dense.bias', 'aux_bert.encoder.layer.4.intermediate.dense.weight', 'aux_bert.encoder.layer.4.output.LayerNorm.bias', 'aux_bert.encoder.layer.4.output.LayerNorm.weight', 'aux_bert.encoder.layer.4.output.dense.bias', 'aux_bert.encoder.layer.4.output.dense.weight', 'aux_bert.encoder.layer.5.attention.output.LayerNorm.bias', 'aux_bert.encoder.layer.5.attention.output.LayerNorm.weight', 'aux_bert.encoder.layer.5.attention.output.dense.bias', 'aux_bert.encoder.layer.5.attention.output.dense.weight', 'aux_bert.encoder.layer.5.attention.self.key.bias', 'aux_bert.encoder.layer.5.attention.self.key.weight', 'aux_bert.encoder.layer.5.attention.self.query.bias', 'aux_bert.encoder.layer.5.attention.self.query.weight', 'aux_bert.encoder.layer.5.attention.self.value.bias', 'aux_bert.encoder.layer.5.attention.self.value.weight', 'aux_bert.encoder.layer.5.intermediate.dense.bias', 'aux_bert.encoder.layer.5.intermediate.dense.weight', 'aux_bert.encoder.layer.5.output.LayerNorm.bias', 'aux_bert.encoder.layer.5.output.LayerNorm.weight', 'aux_bert.encoder.layer.5.output.dense.bias', 'aux_bert.encoder.layer.5.output.dense.weight', 'aux_bert.encoder.layer.6.attention.output.LayerNorm.bias', 'aux_bert.encoder.layer.6.attention.output.LayerNorm.weight', 'aux_bert.encoder.layer.6.attention.output.dense.bias', 'aux_bert.encoder.layer.6.attention.output.dense.weight', 'aux_bert.encoder.layer.6.attention.self.key.bias', 'aux_bert.encoder.layer.6.attention.self.key.weight', 'aux_bert.encoder.layer.6.attention.self.query.bias', 'aux_bert.encoder.layer.6.attention.self.query.weight', 'aux_bert.encoder.layer.6.attention.self.value.bias', 'aux_bert.encoder.layer.6.attention.self.value.weight', 'aux_bert.encoder.layer.6.intermediate.dense.bias', 'aux_bert.encoder.layer.6.intermediate.dense.weight', 'aux_bert.encoder.layer.6.output.LayerNorm.bias', 'aux_bert.encoder.layer.6.output.LayerNorm.weight', 'aux_bert.encoder.layer.6.output.dense.bias', 'aux_bert.encoder.layer.6.output.dense.weight', 'aux_bert.encoder.layer.7.attention.output.LayerNorm.bias', 'aux_bert.encoder.layer.7.attention.output.LayerNorm.weight', 'aux_bert.encoder.layer.7.attention.output.dense.bias', 'aux_bert.encoder.layer.7.attention.output.dense.weight', 'aux_bert.encoder.layer.7.attention.self.key.bias', 'aux_bert.encoder.layer.7.attention.self.key.weight', 'aux_bert.encoder.layer.7.attention.self.query.bias', 'aux_bert.encoder.layer.7.attention.self.query.weight', 'aux_bert.encoder.layer.7.attention.self.value.bias', 'aux_bert.encoder.layer.7.attention.self.value.weight', 'aux_bert.encoder.layer.7.intermediate.dense.bias', 'aux_bert.encoder.layer.7.intermediate.dense.weight', 'aux_bert.encoder.layer.7.output.LayerNorm.bias', 'aux_bert.encoder.layer.7.output.LayerNorm.weight', 'aux_bert.encoder.layer.7.output.dense.bias', 'aux_bert.encoder.layer.7.output.dense.weight', 'aux_bert.encoder.layer.8.attention.output.LayerNorm.bias', 'aux_bert.encoder.layer.8.attention.output.LayerNorm.weight', 'aux_bert.encoder.layer.8.attention.output.dense.bias', 'aux_bert.encoder.layer.8.attention.output.dense.weight', 'aux_bert.encoder.layer.8.attention.self.key.bias', 'aux_bert.encoder.layer.8.attention.self.key.weight', 'aux_bert.encoder.layer.8.attention.self.query.bias', 'aux_bert.encoder.layer.8.attention.self.query.weight', 'aux_bert.encoder.layer.8.attention.self.value.bias', 'aux_bert.encoder.layer.8.attention.self.value.weight', 'aux_bert.encoder.layer.8.intermediate.dense.bias', 'aux_bert.encoder.layer.8.intermediate.dense.weight', 'aux_bert.encoder.layer.8.output.LayerNorm.bias', 'aux_bert.encoder.layer.8.output.LayerNorm.weight', 'aux_bert.encoder.layer.8.output.dense.bias', 'aux_bert.encoder.layer.8.output.dense.weight', 'aux_bert.encoder.layer.9.attention.output.LayerNorm.bias', 'aux_bert.encoder.layer.9.attention.output.LayerNorm.weight', 'aux_bert.encoder.layer.9.attention.output.dense.bias', 'aux_bert.encoder.layer.9.attention.output.dense.weight', 'aux_bert.encoder.layer.9.attention.self.key.bias', 'aux_bert.encoder.layer.9.attention.self.key.weight', 'aux_bert.encoder.layer.9.attention.self.query.bias', 'aux_bert.encoder.layer.9.attention.self.query.weight', 'aux_bert.encoder.layer.9.attention.self.value.bias', 'aux_bert.encoder.layer.9.attention.self.value.weight', 'aux_bert.encoder.layer.9.intermediate.dense.bias', 'aux_bert.encoder.layer.9.intermediate.dense.weight', 'aux_bert.encoder.layer.9.output.LayerNorm.bias', 'aux_bert.encoder.layer.9.output.LayerNorm.weight', 'aux_bert.encoder.layer.9.output.dense.bias', 'aux_bert.encoder.layer.9.output.dense.weight', 'generator.distilbert.embeddings.LayerNorm.bias', 'generator.distilbert.embeddings.LayerNorm.weight', 'generator.distilbert.embeddings.position_embeddings.weight', 'generator.distilbert.embeddings.word_embeddings.weight', 'generator.distilbert.transformer.layer.0.attention.k_lin.bias', 'generator.distilbert.transformer.layer.0.attention.k_lin.weight', 'generator.distilbert.transformer.layer.0.attention.out_lin.bias', 'generator.distilbert.transformer.layer.0.attention.out_lin.weight', 'generator.distilbert.transformer.layer.0.attention.q_lin.bias', 'generator.distilbert.transformer.layer.0.attention.q_lin.weight', 'generator.distilbert.transformer.layer.0.attention.v_lin.bias', 'generator.distilbert.transformer.layer.0.attention.v_lin.weight', 'generator.distilbert.transformer.layer.0.ffn.lin1.bias', 'generator.distilbert.transformer.layer.0.ffn.lin1.weight', 'generator.distilbert.transformer.layer.0.ffn.lin2.bias', 'generator.distilbert.transformer.layer.0.ffn.lin2.weight', 'generator.distilbert.transformer.layer.0.output_layer_norm.bias', 'generator.distilbert.transformer.layer.0.output_layer_norm.weight', 'generator.distilbert.transformer.layer.0.sa_layer_norm.bias', 'generator.distilbert.transformer.layer.0.sa_layer_norm.weight', 'generator.distilbert.transformer.layer.1.attention.k_lin.bias', 'generator.distilbert.transformer.layer.1.attention.k_lin.weight', 'generator.distilbert.transformer.layer.1.attention.out_lin.bias', 'generator.distilbert.transformer.layer.1.attention.out_lin.weight', 'generator.distilbert.transformer.layer.1.attention.q_lin.bias', 'generator.distilbert.transformer.layer.1.attention.q_lin.weight', 'generator.distilbert.transformer.layer.1.attention.v_lin.bias', 'generator.distilbert.transformer.layer.1.attention.v_lin.weight', 'generator.distilbert.transformer.layer.1.ffn.lin1.bias', 'generator.distilbert.transformer.layer.1.ffn.lin1.weight', 'generator.distilbert.transformer.layer.1.ffn.lin2.bias', 'generator.distilbert.transformer.layer.1.ffn.lin2.weight', 'generator.distilbert.transformer.layer.1.output_layer_norm.bias', 'generator.distilbert.transformer.layer.1.output_layer_norm.weight', 'generator.distilbert.transformer.layer.1.sa_layer_norm.bias', 'generator.distilbert.transformer.layer.1.sa_layer_norm.weight', 'generator.distilbert.transformer.layer.2.attention.k_lin.bias', 'generator.distilbert.transformer.layer.2.attention.k_lin.weight', 'generator.distilbert.transformer.layer.2.attention.out_lin.bias', 'generator.distilbert.transformer.layer.2.attention.out_lin.weight', 'generator.distilbert.transformer.layer.2.attention.q_lin.bias', 'generator.distilbert.transformer.layer.2.attention.q_lin.weight', 'generator.distilbert.transformer.layer.2.attention.v_lin.bias', 'generator.distilbert.transformer.layer.2.attention.v_lin.weight', 'generator.distilbert.transformer.layer.2.ffn.lin1.bias', 'generator.distilbert.transformer.layer.2.ffn.lin1.weight', 'generator.distilbert.transformer.layer.2.ffn.lin2.bias', 'generator.distilbert.transformer.layer.2.ffn.lin2.weight', 'generator.distilbert.transformer.layer.2.output_layer_norm.bias', 'generator.distilbert.transformer.layer.2.output_layer_norm.weight', 'generator.distilbert.transformer.layer.2.sa_layer_norm.bias', 'generator.distilbert.transformer.layer.2.sa_layer_norm.weight', 'generator.distilbert.transformer.layer.3.attention.k_lin.bias', 'generator.distilbert.transformer.layer.3.attention.k_lin.weight', 'generator.distilbert.transformer.layer.3.attention.out_lin.bias', 'generator.distilbert.transformer.layer.3.attention.out_lin.weight', 'generator.distilbert.transformer.layer.3.attention.q_lin.bias', 'generator.distilbert.transformer.layer.3.attention.q_lin.weight', 'generator.distilbert.transformer.layer.3.attention.v_lin.bias', 'generator.distilbert.transformer.layer.3.attention.v_lin.weight', 'generator.distilbert.transformer.layer.3.ffn.lin1.bias', 'generator.distilbert.transformer.layer.3.ffn.lin1.weight', 'generator.distilbert.transformer.layer.3.ffn.lin2.bias', 'generator.distilbert.transformer.layer.3.ffn.lin2.weight', 'generator.distilbert.transformer.layer.3.output_layer_norm.bias', 'generator.distilbert.transformer.layer.3.output_layer_norm.weight', 'generator.distilbert.transformer.layer.3.sa_layer_norm.bias', 'generator.distilbert.transformer.layer.3.sa_layer_norm.weight', 'generator.distilbert.transformer.layer.4.attention.k_lin.bias', 'generator.distilbert.transformer.layer.4.attention.k_lin.weight', 'generator.distilbert.transformer.layer.4.attention.out_lin.bias', 'generator.distilbert.transformer.layer.4.attention.out_lin.weight', 'generator.distilbert.transformer.layer.4.attention.q_lin.bias', 'generator.distilbert.transformer.layer.4.attention.q_lin.weight', 'generator.distilbert.transformer.layer.4.attention.v_lin.bias', 'generator.distilbert.transformer.layer.4.attention.v_lin.weight', 'generator.distilbert.transformer.layer.4.ffn.lin1.bias', 'generator.distilbert.transformer.layer.4.ffn.lin1.weight', 'generator.distilbert.transformer.layer.4.ffn.lin2.bias', 'generator.distilbert.transformer.layer.4.ffn.lin2.weight', 'generator.distilbert.transformer.layer.4.output_layer_norm.bias', 'generator.distilbert.transformer.layer.4.output_layer_norm.weight', 'generator.distilbert.transformer.layer.4.sa_layer_norm.bias', 'generator.distilbert.transformer.layer.4.sa_layer_norm.weight', 'generator.distilbert.transformer.layer.5.attention.k_lin.bias', 'generator.distilbert.transformer.layer.5.attention.k_lin.weight', 'generator.distilbert.transformer.layer.5.attention.out_lin.bias', 'generator.distilbert.transformer.layer.5.attention.out_lin.weight', 'generator.distilbert.transformer.layer.5.attention.q_lin.bias', 'generator.distilbert.transformer.layer.5.attention.q_lin.weight', 'generator.distilbert.transformer.layer.5.attention.v_lin.bias', 'generator.distilbert.transformer.layer.5.attention.v_lin.weight', 'generator.distilbert.transformer.layer.5.ffn.lin1.bias', 'generator.distilbert.transformer.layer.5.ffn.lin1.weight', 'generator.distilbert.transformer.layer.5.ffn.lin2.bias', 'generator.distilbert.transformer.layer.5.ffn.lin2.weight', 'generator.distilbert.transformer.layer.5.output_layer_norm.bias', 'generator.distilbert.transformer.layer.5.output_layer_norm.weight', 'generator.distilbert.transformer.layer.5.sa_layer_norm.bias', 'generator.distilbert.transformer.layer.5.sa_layer_norm.weight', 'generator.vocab_layer_norm.bias', 'generator.vocab_layer_norm.weight', 'generator.vocab_projector.bias', 'generator.vocab_projector.weight', 'generator.vocab_transform.bias', 'generator.vocab_transform.weight', 'lm_head.bias', 'lm_head.decoder.bias', 'lm_head.decoder.weight', 'lm_head.transform.LayerNorm.bias', 'lm_head.transform.LayerNorm.weight', 'lm_head.transform.dense.bias', 'lm_head.transform.dense.weight', 'mlp.net.0.weight', 'mlp.net.1.bias', 'mlp.net.1.num_batches_tracked', 'mlp.net.1.running_mean', 'mlp.net.1.running_var', 'mlp.net.1.weight', 'mlp.net.3.weight', 'mlp.net.4.num_batches_tracked', 'mlp.net.4.running_mean', 'mlp.net.4.running_var']\n",
            "- This IS expected if you are initializing BertModel from the checkpoint of a model trained on another task or with another architecture (e.g. initializing a BertForSequenceClassification model from a BertForPreTraining model).\n",
            "- This IS NOT expected if you are initializing BertModel from the checkpoint of a model that you expect to be exactly identical (initializing a BertForSequenceClassification model from a BertForSequenceClassification model).\n",
            "Some weights of BertModel were not initialized from the model checkpoint at voidism/diffcse-bert-base-uncased-trans and are newly initialized: ['bert.pooler.dense.bias', 'bert.pooler.dense.weight']\n",
            "You should probably TRAIN this model on a down-stream task to be able to use it for predictions and inference.\n"
          ]
        },
        {
          "output_type": "stream",
          "name": "stdout",
          "text": [
            "Cosine similarity using SimCSE: 0.5489\n",
            "Cosine similarity using DiffCSE: 0.8087\n"
          ]
        }
      ]
    },
    {
      "cell_type": "code",
      "source": [
        "import wandb\n",
        "\n",
        "wandb.init(project=\"sentence-embedding-comparison\")\n",
        "threshold = 0.7\n",
        "\n",
        "simcse_prediction = 1 if similarity_simcse[0][0] >= threshold else 0\n",
        "diffcse_prediction = 1 if similarity_diffcse[0][0] >= threshold else 0\n",
        "\n",
        "print(f\"SimCSE Prediction: {'Similar' if simcse_prediction == 1 else 'Dissimilar'}\")\n",
        "print(f\"DiffCSE Prediction: {'Similar' if diffcse_prediction == 1 else 'Dissimilar'}\")\n",
        "\n",
        "ground_truth = 1\n",
        "\n",
        "simcse_accuracy = 1 if simcse_prediction == ground_truth else 0\n",
        "diffcse_accuracy = 1 if diffcse_prediction == ground_truth else 0\n",
        "\n",
        "print(f\"Accuracy of SimCSE: {simcse_accuracy * 100}%\")\n",
        "print(f\"Accuracy of DiffCSE: {diffcse_accuracy * 100}%\")\n",
        "\n",
        "results = [\n",
        "    {\n",
        "        \"sentence1\": sentences[0],\n",
        "        \"sentence2\": sentences[1],\n",
        "        \"simcse_similarity\": similarity_simcse[0][0],\n",
        "        \"diffcse_similarity\": similarity_diffcse[0][0],\n",
        "        \"simcse_accuracy\": simcse_accuracy,\n",
        "        \"diffcse_accuracy\": diffcse_accuracy\n",
        "    }\n",
        "]\n",
        "\n",
        "for result in results:\n",
        "    wandb.log({\n",
        "        \"sentence1\": result['sentence1'],\n",
        "        \"sentence2\": result['sentence2'],\n",
        "        \"simcse_similarity\": result['simcse_similarity'],\n",
        "        \"diffcse_similarity\": result['diffcse_similarity'],\n",
        "        \"simcse_accuracy\": result['simcse_accuracy'],\n",
        "        \"diffcse_accuracy\": result['diffcse_accuracy']\n",
        "    })\n",
        "\n",
        "wandb.finish()"
      ],
      "metadata": {
        "colab": {
          "base_uri": "https://localhost:8080/",
          "height": 466
        },
        "id": "BxNNOZ5ByB18",
        "outputId": "56de4bcf-d2ce-46a3-bced-e50c41662233"
      },
      "execution_count": 19,
      "outputs": [
        {
          "output_type": "display_data",
          "data": {
            "text/plain": [
              "<IPython.core.display.HTML object>"
            ],
            "text/html": [
              "Tracking run with wandb version 0.18.5"
            ]
          },
          "metadata": {}
        },
        {
          "output_type": "display_data",
          "data": {
            "text/plain": [
              "<IPython.core.display.HTML object>"
            ],
            "text/html": [
              "Run data is saved locally in <code>/content/wandb/run-20241110_215913-gp489q1c</code>"
            ]
          },
          "metadata": {}
        },
        {
          "output_type": "display_data",
          "data": {
            "text/plain": [
              "<IPython.core.display.HTML object>"
            ],
            "text/html": [
              "Syncing run <strong><a href='https://wandb.ai/kim4448-purdue-university/sentence-embedding-comparison/runs/gp489q1c' target=\"_blank\">elated-totem-20</a></strong> to <a href='https://wandb.ai/kim4448-purdue-university/sentence-embedding-comparison' target=\"_blank\">Weights & Biases</a> (<a href='https://wandb.me/run' target=\"_blank\">docs</a>)<br/>"
            ]
          },
          "metadata": {}
        },
        {
          "output_type": "display_data",
          "data": {
            "text/plain": [
              "<IPython.core.display.HTML object>"
            ],
            "text/html": [
              " View project at <a href='https://wandb.ai/kim4448-purdue-university/sentence-embedding-comparison' target=\"_blank\">https://wandb.ai/kim4448-purdue-university/sentence-embedding-comparison</a>"
            ]
          },
          "metadata": {}
        },
        {
          "output_type": "display_data",
          "data": {
            "text/plain": [
              "<IPython.core.display.HTML object>"
            ],
            "text/html": [
              " View run at <a href='https://wandb.ai/kim4448-purdue-university/sentence-embedding-comparison/runs/gp489q1c' target=\"_blank\">https://wandb.ai/kim4448-purdue-university/sentence-embedding-comparison/runs/gp489q1c</a>"
            ]
          },
          "metadata": {}
        },
        {
          "output_type": "stream",
          "name": "stdout",
          "text": [
            "SimCSE Prediction: Dissimilar\n",
            "DiffCSE Prediction: Similar\n",
            "Accuracy of SimCSE: 0%\n",
            "Accuracy of DiffCSE: 100%\n"
          ]
        },
        {
          "output_type": "display_data",
          "data": {
            "text/plain": [
              "<IPython.core.display.HTML object>"
            ],
            "text/html": [
              "<style>\n",
              "    table.wandb td:nth-child(1) { padding: 0 10px; text-align: left ; width: auto;} td:nth-child(2) {text-align: left ; width: 100%}\n",
              "    .wandb-row { display: flex; flex-direction: row; flex-wrap: wrap; justify-content: flex-start; width: 100% }\n",
              "    .wandb-col { display: flex; flex-direction: column; flex-basis: 100%; flex: 1; padding: 10px; }\n",
              "    </style>\n",
              "<div class=\"wandb-row\"><div class=\"wandb-col\"><h3>Run history:</h3><br/><table class=\"wandb\"><tr><td>diffcse_accuracy</td><td>▁</td></tr><tr><td>diffcse_similarity</td><td>▁</td></tr><tr><td>simcse_accuracy</td><td>▁</td></tr><tr><td>simcse_similarity</td><td>▁</td></tr></table><br/></div><div class=\"wandb-col\"><h3>Run summary:</h3><br/><table class=\"wandb\"><tr><td>diffcse_accuracy</td><td>1</td></tr><tr><td>diffcse_similarity</td><td>0.80872</td></tr><tr><td>sentence1</td><td>The team showed incr...</td></tr><tr><td>sentence2</td><td>The players worked t...</td></tr><tr><td>simcse_accuracy</td><td>0</td></tr><tr><td>simcse_similarity</td><td>0.54887</td></tr></table><br/></div></div>"
            ]
          },
          "metadata": {}
        },
        {
          "output_type": "display_data",
          "data": {
            "text/plain": [
              "<IPython.core.display.HTML object>"
            ],
            "text/html": [
              " View run <strong style=\"color:#cdcd00\">elated-totem-20</strong> at: <a href='https://wandb.ai/kim4448-purdue-university/sentence-embedding-comparison/runs/gp489q1c' target=\"_blank\">https://wandb.ai/kim4448-purdue-university/sentence-embedding-comparison/runs/gp489q1c</a><br/> View project at: <a href='https://wandb.ai/kim4448-purdue-university/sentence-embedding-comparison' target=\"_blank\">https://wandb.ai/kim4448-purdue-university/sentence-embedding-comparison</a><br/>Synced 5 W&B file(s), 0 media file(s), 0 artifact file(s) and 0 other file(s)"
            ]
          },
          "metadata": {}
        },
        {
          "output_type": "display_data",
          "data": {
            "text/plain": [
              "<IPython.core.display.HTML object>"
            ],
            "text/html": [
              "Find logs at: <code>./wandb/run-20241110_215913-gp489q1c/logs</code>"
            ]
          },
          "metadata": {}
        }
      ]
    },
    {
      "cell_type": "code",
      "source": [
        "import wandb\n",
        "from sentence_transformers import SentenceTransformer\n",
        "from sklearn.metrics.pairwise import cosine_similarity\n",
        "\n",
        "simcse_model = SentenceTransformer('sentence-transformers/all-MiniLM-L6-v2')\n",
        "diffcse_model = SentenceTransformer('voidism/diffcse-bert-base-uncased-trans')\n",
        "sentence_pairs = [\n",
        "    (\"The quarterback threw an interception.\", \"The quarterback threw a perfect pass.\", 'negative'),\n",
        "    (\"The track team is ready for the upcoming race.\", \"The football team is prepared for their next game.\", 'negative'),\n",
        "    (\"The baseball player made an unbelievable catch.\", \"The baseball team made a diving catch in the outfield.\", 'positive'),\n",
        "    (\"The player celebrated with his teammates after scoring.\", \"The player celebrated after scoring a touchdown.\", 'positive'),\n",
        "    (\"The cyclist won the race by a narrow margin.\", \"The runner took the gold medal in the race.\", 'negative'),\n",
        "    (\"The team secured a victory in overtime.\", \"The team won the match in the last minute.\", 'positive'),\n",
        "    (\"He broke his personal record in the high jump.\", \"He cleared a new personal best in the high jump.\", 'positive'),\n",
        "    (\"The soccer game ended in a penalty shootout.\", \"The soccer match ended with a 1-1 draw.\", 'negative'),\n",
        "    (\"The team had a great start but lost momentum.\", \"The team dominated the game from start to finish.\", 'negative'),\n",
        "    (\"He managed to block the opponent's shot.\", \"He successfully blocked a shot from the opposing player.\", 'positive'),\n",
        "    (\"The boxer knocked out his opponent in the first round.\", \"The boxer defeated his opponent with a knockout.\", 'positive'),\n",
        "    (\"The athlete sprinted to the finish line.\", \"The runner dashed across the finish line.\", 'positive'),\n",
        "    (\"The coach praised the team's effort after the game.\", \"The coach congratulated the players after the match.\", 'positive'),\n",
        "    (\"The basketball player dunked over his opponent.\", \"The basketball player made an incredible slam dunk.\", 'positive'),\n",
        "    (\"The baseball team celebrated after the big win.\", \"The baseball team celebrated after their victory.\", 'positive'),\n",
        "    (\"The player was awarded the MVP trophy after the game.\", \"The best player of the match was given the MVP award.\", 'positive'),\n",
        "    (\"The golfer missed a crucial putt.\", \"The golfer made a crucial putt on the last hole.\", 'negative'),\n",
        "    (\"The swimmer won the gold medal in the Olympics.\", \"The swimmer secured the silver medal in the Olympics.\", 'negative'),\n",
        "    (\"The athlete trained for months for the event.\", \"The athlete took months to prepare for the competition.\", 'positive'),\n",
        "    (\"The team lost the match in the final seconds.\", \"The team won the match in the dying seconds.\", 'negative'),\n",
        "    (\"The player was injured during the match and couldn't continue.\", \"The player left the field after being injured.\", 'negative'),\n",
        "    (\"The soccer team is preparing for the upcoming match.\", \"The football team is preparing for their next match.\", 'negative'),\n",
        "    (\"The football player scored the winning touchdown.\", \"The basketball player made the game-winning shot.\", 'negative'),\n",
        "    (\"The athlete broke the world sprinting record.\", \"The runner set a new world record for the 100 meters.\", 'positive'),\n",
        "    (\"The coach called a timeout to discuss strategy.\", \"The coach called a timeout to plan the next play.\", 'positive'),\n",
        "    (\"The swimmer set a new personal best in the butterfly event.\", \"The swimmer broke his personal best in the freestyle event.\", 'positive')\n",
        "]\n",
        "\n",
        "threshold = 0.7\n",
        "\n",
        "wandb.init(project=\"sentence-embedding-comparison\")\n",
        "\n",
        "results = []\n",
        "\n",
        "for sentence_pair in sentence_pairs:\n",
        "    sentence1, sentence2, label = sentence_pair\n",
        "\n",
        "    simcse_embeddings = simcse_model.encode([sentence1, sentence2])\n",
        "    diffcse_embeddings = diffcse_model.encode([sentence1, sentence2])\n",
        "\n",
        "    similarity_simcse = cosine_similarity([simcse_embeddings[0]], [simcse_embeddings[1]])\n",
        "    similarity_diffcse = cosine_similarity([diffcse_embeddings[0]], [diffcse_embeddings[1]])\n",
        "\n",
        "    simcse_prediction = 1 if similarity_simcse[0][0] >= threshold else 0\n",
        "    diffcse_prediction = 1 if similarity_diffcse[0][0] >= threshold else 0\n",
        "\n",
        "    simcse_accuracy = 1 if simcse_prediction == (1 if label == 'positive' else 0) else 0\n",
        "    diffcse_accuracy = 1 if diffcse_prediction == (1 if label == 'positive' else 0) else 0\n",
        "\n",
        "    results.append({\n",
        "        \"sentence1\": sentence1,\n",
        "        \"sentence2\": sentence2,\n",
        "        \"label\": label,\n",
        "        \"simcse_similarity\": similarity_simcse[0][0],\n",
        "        \"diffcse_similarity\": similarity_diffcse[0][0],\n",
        "        \"simcse_prediction\": 'Similar' if simcse_prediction == 1 else 'Dissimilar',\n",
        "        \"diffcse_prediction\": 'Similar' if diffcse_prediction == 1 else 'Dissimilar',\n",
        "        \"simcse_accuracy\": simcse_accuracy,\n",
        "        \"diffcse_accuracy\": diffcse_accuracy\n",
        "    })\n",
        "\n",
        "for result in results:\n",
        "    wandb.log(result)\n",
        "\n",
        "wandb.finish()\n",
        "\n",
        "simcse_final_accuracy = sum([result[\"simcse_accuracy\"] for result in results]) / len(results) * 100\n",
        "diffcse_final_accuracy = sum([result[\"diffcse_accuracy\"] for result in results]) / len(results) * 100\n",
        "\n",
        "print(f\"Final accuracy of SimCSE: {simcse_final_accuracy:.2f}%\")\n",
        "print(f\"Final accuracy of DiffCSE: {diffcse_final_accuracy:.2f}%\")\n"
      ],
      "metadata": {
        "colab": {
          "base_uri": "https://localhost:8080/",
          "height": 618
        },
        "id": "4k-81OH00omW",
        "outputId": "e7b0e500-0eb3-4ba3-9954-e2ad7409a170"
      },
      "execution_count": 20,
      "outputs": [
        {
          "output_type": "stream",
          "name": "stderr",
          "text": [
            "WARNING:sentence_transformers.SentenceTransformer:No sentence-transformers model found with name voidism/diffcse-bert-base-uncased-trans. Creating a new one with mean pooling.\n",
            "Some weights of the model checkpoint at voidism/diffcse-bert-base-uncased-trans were not used when initializing BertModel: ['aux_bert.embeddings.LayerNorm.bias', 'aux_bert.embeddings.LayerNorm.weight', 'aux_bert.embeddings.position_embeddings.weight', 'aux_bert.embeddings.position_ids', 'aux_bert.embeddings.token_type_embeddings.weight', 'aux_bert.embeddings.word_embeddings.weight', 'aux_bert.encoder.layer.0.attention.output.LayerNorm.bias', 'aux_bert.encoder.layer.0.attention.output.LayerNorm.weight', 'aux_bert.encoder.layer.0.attention.output.dense.bias', 'aux_bert.encoder.layer.0.attention.output.dense.weight', 'aux_bert.encoder.layer.0.attention.self.key.bias', 'aux_bert.encoder.layer.0.attention.self.key.weight', 'aux_bert.encoder.layer.0.attention.self.query.bias', 'aux_bert.encoder.layer.0.attention.self.query.weight', 'aux_bert.encoder.layer.0.attention.self.value.bias', 'aux_bert.encoder.layer.0.attention.self.value.weight', 'aux_bert.encoder.layer.0.intermediate.dense.bias', 'aux_bert.encoder.layer.0.intermediate.dense.weight', 'aux_bert.encoder.layer.0.output.LayerNorm.bias', 'aux_bert.encoder.layer.0.output.LayerNorm.weight', 'aux_bert.encoder.layer.0.output.dense.bias', 'aux_bert.encoder.layer.0.output.dense.weight', 'aux_bert.encoder.layer.1.attention.output.LayerNorm.bias', 'aux_bert.encoder.layer.1.attention.output.LayerNorm.weight', 'aux_bert.encoder.layer.1.attention.output.dense.bias', 'aux_bert.encoder.layer.1.attention.output.dense.weight', 'aux_bert.encoder.layer.1.attention.self.key.bias', 'aux_bert.encoder.layer.1.attention.self.key.weight', 'aux_bert.encoder.layer.1.attention.self.query.bias', 'aux_bert.encoder.layer.1.attention.self.query.weight', 'aux_bert.encoder.layer.1.attention.self.value.bias', 'aux_bert.encoder.layer.1.attention.self.value.weight', 'aux_bert.encoder.layer.1.intermediate.dense.bias', 'aux_bert.encoder.layer.1.intermediate.dense.weight', 'aux_bert.encoder.layer.1.output.LayerNorm.bias', 'aux_bert.encoder.layer.1.output.LayerNorm.weight', 'aux_bert.encoder.layer.1.output.dense.bias', 'aux_bert.encoder.layer.1.output.dense.weight', 'aux_bert.encoder.layer.10.attention.output.LayerNorm.bias', 'aux_bert.encoder.layer.10.attention.output.LayerNorm.weight', 'aux_bert.encoder.layer.10.attention.output.dense.bias', 'aux_bert.encoder.layer.10.attention.output.dense.weight', 'aux_bert.encoder.layer.10.attention.self.key.bias', 'aux_bert.encoder.layer.10.attention.self.key.weight', 'aux_bert.encoder.layer.10.attention.self.query.bias', 'aux_bert.encoder.layer.10.attention.self.query.weight', 'aux_bert.encoder.layer.10.attention.self.value.bias', 'aux_bert.encoder.layer.10.attention.self.value.weight', 'aux_bert.encoder.layer.10.intermediate.dense.bias', 'aux_bert.encoder.layer.10.intermediate.dense.weight', 'aux_bert.encoder.layer.10.output.LayerNorm.bias', 'aux_bert.encoder.layer.10.output.LayerNorm.weight', 'aux_bert.encoder.layer.10.output.dense.bias', 'aux_bert.encoder.layer.10.output.dense.weight', 'aux_bert.encoder.layer.11.attention.output.LayerNorm.bias', 'aux_bert.encoder.layer.11.attention.output.LayerNorm.weight', 'aux_bert.encoder.layer.11.attention.output.dense.bias', 'aux_bert.encoder.layer.11.attention.output.dense.weight', 'aux_bert.encoder.layer.11.attention.self.key.bias', 'aux_bert.encoder.layer.11.attention.self.key.weight', 'aux_bert.encoder.layer.11.attention.self.query.bias', 'aux_bert.encoder.layer.11.attention.self.query.weight', 'aux_bert.encoder.layer.11.attention.self.value.bias', 'aux_bert.encoder.layer.11.attention.self.value.weight', 'aux_bert.encoder.layer.11.intermediate.dense.bias', 'aux_bert.encoder.layer.11.intermediate.dense.weight', 'aux_bert.encoder.layer.11.output.LayerNorm.bias', 'aux_bert.encoder.layer.11.output.LayerNorm.weight', 'aux_bert.encoder.layer.11.output.dense.bias', 'aux_bert.encoder.layer.11.output.dense.weight', 'aux_bert.encoder.layer.2.attention.output.LayerNorm.bias', 'aux_bert.encoder.layer.2.attention.output.LayerNorm.weight', 'aux_bert.encoder.layer.2.attention.output.dense.bias', 'aux_bert.encoder.layer.2.attention.output.dense.weight', 'aux_bert.encoder.layer.2.attention.self.key.bias', 'aux_bert.encoder.layer.2.attention.self.key.weight', 'aux_bert.encoder.layer.2.attention.self.query.bias', 'aux_bert.encoder.layer.2.attention.self.query.weight', 'aux_bert.encoder.layer.2.attention.self.value.bias', 'aux_bert.encoder.layer.2.attention.self.value.weight', 'aux_bert.encoder.layer.2.intermediate.dense.bias', 'aux_bert.encoder.layer.2.intermediate.dense.weight', 'aux_bert.encoder.layer.2.output.LayerNorm.bias', 'aux_bert.encoder.layer.2.output.LayerNorm.weight', 'aux_bert.encoder.layer.2.output.dense.bias', 'aux_bert.encoder.layer.2.output.dense.weight', 'aux_bert.encoder.layer.3.attention.output.LayerNorm.bias', 'aux_bert.encoder.layer.3.attention.output.LayerNorm.weight', 'aux_bert.encoder.layer.3.attention.output.dense.bias', 'aux_bert.encoder.layer.3.attention.output.dense.weight', 'aux_bert.encoder.layer.3.attention.self.key.bias', 'aux_bert.encoder.layer.3.attention.self.key.weight', 'aux_bert.encoder.layer.3.attention.self.query.bias', 'aux_bert.encoder.layer.3.attention.self.query.weight', 'aux_bert.encoder.layer.3.attention.self.value.bias', 'aux_bert.encoder.layer.3.attention.self.value.weight', 'aux_bert.encoder.layer.3.intermediate.dense.bias', 'aux_bert.encoder.layer.3.intermediate.dense.weight', 'aux_bert.encoder.layer.3.output.LayerNorm.bias', 'aux_bert.encoder.layer.3.output.LayerNorm.weight', 'aux_bert.encoder.layer.3.output.dense.bias', 'aux_bert.encoder.layer.3.output.dense.weight', 'aux_bert.encoder.layer.4.attention.output.LayerNorm.bias', 'aux_bert.encoder.layer.4.attention.output.LayerNorm.weight', 'aux_bert.encoder.layer.4.attention.output.dense.bias', 'aux_bert.encoder.layer.4.attention.output.dense.weight', 'aux_bert.encoder.layer.4.attention.self.key.bias', 'aux_bert.encoder.layer.4.attention.self.key.weight', 'aux_bert.encoder.layer.4.attention.self.query.bias', 'aux_bert.encoder.layer.4.attention.self.query.weight', 'aux_bert.encoder.layer.4.attention.self.value.bias', 'aux_bert.encoder.layer.4.attention.self.value.weight', 'aux_bert.encoder.layer.4.intermediate.dense.bias', 'aux_bert.encoder.layer.4.intermediate.dense.weight', 'aux_bert.encoder.layer.4.output.LayerNorm.bias', 'aux_bert.encoder.layer.4.output.LayerNorm.weight', 'aux_bert.encoder.layer.4.output.dense.bias', 'aux_bert.encoder.layer.4.output.dense.weight', 'aux_bert.encoder.layer.5.attention.output.LayerNorm.bias', 'aux_bert.encoder.layer.5.attention.output.LayerNorm.weight', 'aux_bert.encoder.layer.5.attention.output.dense.bias', 'aux_bert.encoder.layer.5.attention.output.dense.weight', 'aux_bert.encoder.layer.5.attention.self.key.bias', 'aux_bert.encoder.layer.5.attention.self.key.weight', 'aux_bert.encoder.layer.5.attention.self.query.bias', 'aux_bert.encoder.layer.5.attention.self.query.weight', 'aux_bert.encoder.layer.5.attention.self.value.bias', 'aux_bert.encoder.layer.5.attention.self.value.weight', 'aux_bert.encoder.layer.5.intermediate.dense.bias', 'aux_bert.encoder.layer.5.intermediate.dense.weight', 'aux_bert.encoder.layer.5.output.LayerNorm.bias', 'aux_bert.encoder.layer.5.output.LayerNorm.weight', 'aux_bert.encoder.layer.5.output.dense.bias', 'aux_bert.encoder.layer.5.output.dense.weight', 'aux_bert.encoder.layer.6.attention.output.LayerNorm.bias', 'aux_bert.encoder.layer.6.attention.output.LayerNorm.weight', 'aux_bert.encoder.layer.6.attention.output.dense.bias', 'aux_bert.encoder.layer.6.attention.output.dense.weight', 'aux_bert.encoder.layer.6.attention.self.key.bias', 'aux_bert.encoder.layer.6.attention.self.key.weight', 'aux_bert.encoder.layer.6.attention.self.query.bias', 'aux_bert.encoder.layer.6.attention.self.query.weight', 'aux_bert.encoder.layer.6.attention.self.value.bias', 'aux_bert.encoder.layer.6.attention.self.value.weight', 'aux_bert.encoder.layer.6.intermediate.dense.bias', 'aux_bert.encoder.layer.6.intermediate.dense.weight', 'aux_bert.encoder.layer.6.output.LayerNorm.bias', 'aux_bert.encoder.layer.6.output.LayerNorm.weight', 'aux_bert.encoder.layer.6.output.dense.bias', 'aux_bert.encoder.layer.6.output.dense.weight', 'aux_bert.encoder.layer.7.attention.output.LayerNorm.bias', 'aux_bert.encoder.layer.7.attention.output.LayerNorm.weight', 'aux_bert.encoder.layer.7.attention.output.dense.bias', 'aux_bert.encoder.layer.7.attention.output.dense.weight', 'aux_bert.encoder.layer.7.attention.self.key.bias', 'aux_bert.encoder.layer.7.attention.self.key.weight', 'aux_bert.encoder.layer.7.attention.self.query.bias', 'aux_bert.encoder.layer.7.attention.self.query.weight', 'aux_bert.encoder.layer.7.attention.self.value.bias', 'aux_bert.encoder.layer.7.attention.self.value.weight', 'aux_bert.encoder.layer.7.intermediate.dense.bias', 'aux_bert.encoder.layer.7.intermediate.dense.weight', 'aux_bert.encoder.layer.7.output.LayerNorm.bias', 'aux_bert.encoder.layer.7.output.LayerNorm.weight', 'aux_bert.encoder.layer.7.output.dense.bias', 'aux_bert.encoder.layer.7.output.dense.weight', 'aux_bert.encoder.layer.8.attention.output.LayerNorm.bias', 'aux_bert.encoder.layer.8.attention.output.LayerNorm.weight', 'aux_bert.encoder.layer.8.attention.output.dense.bias', 'aux_bert.encoder.layer.8.attention.output.dense.weight', 'aux_bert.encoder.layer.8.attention.self.key.bias', 'aux_bert.encoder.layer.8.attention.self.key.weight', 'aux_bert.encoder.layer.8.attention.self.query.bias', 'aux_bert.encoder.layer.8.attention.self.query.weight', 'aux_bert.encoder.layer.8.attention.self.value.bias', 'aux_bert.encoder.layer.8.attention.self.value.weight', 'aux_bert.encoder.layer.8.intermediate.dense.bias', 'aux_bert.encoder.layer.8.intermediate.dense.weight', 'aux_bert.encoder.layer.8.output.LayerNorm.bias', 'aux_bert.encoder.layer.8.output.LayerNorm.weight', 'aux_bert.encoder.layer.8.output.dense.bias', 'aux_bert.encoder.layer.8.output.dense.weight', 'aux_bert.encoder.layer.9.attention.output.LayerNorm.bias', 'aux_bert.encoder.layer.9.attention.output.LayerNorm.weight', 'aux_bert.encoder.layer.9.attention.output.dense.bias', 'aux_bert.encoder.layer.9.attention.output.dense.weight', 'aux_bert.encoder.layer.9.attention.self.key.bias', 'aux_bert.encoder.layer.9.attention.self.key.weight', 'aux_bert.encoder.layer.9.attention.self.query.bias', 'aux_bert.encoder.layer.9.attention.self.query.weight', 'aux_bert.encoder.layer.9.attention.self.value.bias', 'aux_bert.encoder.layer.9.attention.self.value.weight', 'aux_bert.encoder.layer.9.intermediate.dense.bias', 'aux_bert.encoder.layer.9.intermediate.dense.weight', 'aux_bert.encoder.layer.9.output.LayerNorm.bias', 'aux_bert.encoder.layer.9.output.LayerNorm.weight', 'aux_bert.encoder.layer.9.output.dense.bias', 'aux_bert.encoder.layer.9.output.dense.weight', 'generator.distilbert.embeddings.LayerNorm.bias', 'generator.distilbert.embeddings.LayerNorm.weight', 'generator.distilbert.embeddings.position_embeddings.weight', 'generator.distilbert.embeddings.word_embeddings.weight', 'generator.distilbert.transformer.layer.0.attention.k_lin.bias', 'generator.distilbert.transformer.layer.0.attention.k_lin.weight', 'generator.distilbert.transformer.layer.0.attention.out_lin.bias', 'generator.distilbert.transformer.layer.0.attention.out_lin.weight', 'generator.distilbert.transformer.layer.0.attention.q_lin.bias', 'generator.distilbert.transformer.layer.0.attention.q_lin.weight', 'generator.distilbert.transformer.layer.0.attention.v_lin.bias', 'generator.distilbert.transformer.layer.0.attention.v_lin.weight', 'generator.distilbert.transformer.layer.0.ffn.lin1.bias', 'generator.distilbert.transformer.layer.0.ffn.lin1.weight', 'generator.distilbert.transformer.layer.0.ffn.lin2.bias', 'generator.distilbert.transformer.layer.0.ffn.lin2.weight', 'generator.distilbert.transformer.layer.0.output_layer_norm.bias', 'generator.distilbert.transformer.layer.0.output_layer_norm.weight', 'generator.distilbert.transformer.layer.0.sa_layer_norm.bias', 'generator.distilbert.transformer.layer.0.sa_layer_norm.weight', 'generator.distilbert.transformer.layer.1.attention.k_lin.bias', 'generator.distilbert.transformer.layer.1.attention.k_lin.weight', 'generator.distilbert.transformer.layer.1.attention.out_lin.bias', 'generator.distilbert.transformer.layer.1.attention.out_lin.weight', 'generator.distilbert.transformer.layer.1.attention.q_lin.bias', 'generator.distilbert.transformer.layer.1.attention.q_lin.weight', 'generator.distilbert.transformer.layer.1.attention.v_lin.bias', 'generator.distilbert.transformer.layer.1.attention.v_lin.weight', 'generator.distilbert.transformer.layer.1.ffn.lin1.bias', 'generator.distilbert.transformer.layer.1.ffn.lin1.weight', 'generator.distilbert.transformer.layer.1.ffn.lin2.bias', 'generator.distilbert.transformer.layer.1.ffn.lin2.weight', 'generator.distilbert.transformer.layer.1.output_layer_norm.bias', 'generator.distilbert.transformer.layer.1.output_layer_norm.weight', 'generator.distilbert.transformer.layer.1.sa_layer_norm.bias', 'generator.distilbert.transformer.layer.1.sa_layer_norm.weight', 'generator.distilbert.transformer.layer.2.attention.k_lin.bias', 'generator.distilbert.transformer.layer.2.attention.k_lin.weight', 'generator.distilbert.transformer.layer.2.attention.out_lin.bias', 'generator.distilbert.transformer.layer.2.attention.out_lin.weight', 'generator.distilbert.transformer.layer.2.attention.q_lin.bias', 'generator.distilbert.transformer.layer.2.attention.q_lin.weight', 'generator.distilbert.transformer.layer.2.attention.v_lin.bias', 'generator.distilbert.transformer.layer.2.attention.v_lin.weight', 'generator.distilbert.transformer.layer.2.ffn.lin1.bias', 'generator.distilbert.transformer.layer.2.ffn.lin1.weight', 'generator.distilbert.transformer.layer.2.ffn.lin2.bias', 'generator.distilbert.transformer.layer.2.ffn.lin2.weight', 'generator.distilbert.transformer.layer.2.output_layer_norm.bias', 'generator.distilbert.transformer.layer.2.output_layer_norm.weight', 'generator.distilbert.transformer.layer.2.sa_layer_norm.bias', 'generator.distilbert.transformer.layer.2.sa_layer_norm.weight', 'generator.distilbert.transformer.layer.3.attention.k_lin.bias', 'generator.distilbert.transformer.layer.3.attention.k_lin.weight', 'generator.distilbert.transformer.layer.3.attention.out_lin.bias', 'generator.distilbert.transformer.layer.3.attention.out_lin.weight', 'generator.distilbert.transformer.layer.3.attention.q_lin.bias', 'generator.distilbert.transformer.layer.3.attention.q_lin.weight', 'generator.distilbert.transformer.layer.3.attention.v_lin.bias', 'generator.distilbert.transformer.layer.3.attention.v_lin.weight', 'generator.distilbert.transformer.layer.3.ffn.lin1.bias', 'generator.distilbert.transformer.layer.3.ffn.lin1.weight', 'generator.distilbert.transformer.layer.3.ffn.lin2.bias', 'generator.distilbert.transformer.layer.3.ffn.lin2.weight', 'generator.distilbert.transformer.layer.3.output_layer_norm.bias', 'generator.distilbert.transformer.layer.3.output_layer_norm.weight', 'generator.distilbert.transformer.layer.3.sa_layer_norm.bias', 'generator.distilbert.transformer.layer.3.sa_layer_norm.weight', 'generator.distilbert.transformer.layer.4.attention.k_lin.bias', 'generator.distilbert.transformer.layer.4.attention.k_lin.weight', 'generator.distilbert.transformer.layer.4.attention.out_lin.bias', 'generator.distilbert.transformer.layer.4.attention.out_lin.weight', 'generator.distilbert.transformer.layer.4.attention.q_lin.bias', 'generator.distilbert.transformer.layer.4.attention.q_lin.weight', 'generator.distilbert.transformer.layer.4.attention.v_lin.bias', 'generator.distilbert.transformer.layer.4.attention.v_lin.weight', 'generator.distilbert.transformer.layer.4.ffn.lin1.bias', 'generator.distilbert.transformer.layer.4.ffn.lin1.weight', 'generator.distilbert.transformer.layer.4.ffn.lin2.bias', 'generator.distilbert.transformer.layer.4.ffn.lin2.weight', 'generator.distilbert.transformer.layer.4.output_layer_norm.bias', 'generator.distilbert.transformer.layer.4.output_layer_norm.weight', 'generator.distilbert.transformer.layer.4.sa_layer_norm.bias', 'generator.distilbert.transformer.layer.4.sa_layer_norm.weight', 'generator.distilbert.transformer.layer.5.attention.k_lin.bias', 'generator.distilbert.transformer.layer.5.attention.k_lin.weight', 'generator.distilbert.transformer.layer.5.attention.out_lin.bias', 'generator.distilbert.transformer.layer.5.attention.out_lin.weight', 'generator.distilbert.transformer.layer.5.attention.q_lin.bias', 'generator.distilbert.transformer.layer.5.attention.q_lin.weight', 'generator.distilbert.transformer.layer.5.attention.v_lin.bias', 'generator.distilbert.transformer.layer.5.attention.v_lin.weight', 'generator.distilbert.transformer.layer.5.ffn.lin1.bias', 'generator.distilbert.transformer.layer.5.ffn.lin1.weight', 'generator.distilbert.transformer.layer.5.ffn.lin2.bias', 'generator.distilbert.transformer.layer.5.ffn.lin2.weight', 'generator.distilbert.transformer.layer.5.output_layer_norm.bias', 'generator.distilbert.transformer.layer.5.output_layer_norm.weight', 'generator.distilbert.transformer.layer.5.sa_layer_norm.bias', 'generator.distilbert.transformer.layer.5.sa_layer_norm.weight', 'generator.vocab_layer_norm.bias', 'generator.vocab_layer_norm.weight', 'generator.vocab_projector.bias', 'generator.vocab_projector.weight', 'generator.vocab_transform.bias', 'generator.vocab_transform.weight', 'lm_head.bias', 'lm_head.decoder.bias', 'lm_head.decoder.weight', 'lm_head.transform.LayerNorm.bias', 'lm_head.transform.LayerNorm.weight', 'lm_head.transform.dense.bias', 'lm_head.transform.dense.weight', 'mlp.net.0.weight', 'mlp.net.1.bias', 'mlp.net.1.num_batches_tracked', 'mlp.net.1.running_mean', 'mlp.net.1.running_var', 'mlp.net.1.weight', 'mlp.net.3.weight', 'mlp.net.4.num_batches_tracked', 'mlp.net.4.running_mean', 'mlp.net.4.running_var']\n",
            "- This IS expected if you are initializing BertModel from the checkpoint of a model trained on another task or with another architecture (e.g. initializing a BertForSequenceClassification model from a BertForPreTraining model).\n",
            "- This IS NOT expected if you are initializing BertModel from the checkpoint of a model that you expect to be exactly identical (initializing a BertForSequenceClassification model from a BertForSequenceClassification model).\n",
            "Some weights of BertModel were not initialized from the model checkpoint at voidism/diffcse-bert-base-uncased-trans and are newly initialized: ['bert.pooler.dense.bias', 'bert.pooler.dense.weight']\n",
            "You should probably TRAIN this model on a down-stream task to be able to use it for predictions and inference.\n"
          ]
        },
        {
          "output_type": "display_data",
          "data": {
            "text/plain": [
              "<IPython.core.display.HTML object>"
            ],
            "text/html": [
              "Tracking run with wandb version 0.18.5"
            ]
          },
          "metadata": {}
        },
        {
          "output_type": "display_data",
          "data": {
            "text/plain": [
              "<IPython.core.display.HTML object>"
            ],
            "text/html": [
              "Run data is saved locally in <code>/content/wandb/run-20241110_220054-czruvb6c</code>"
            ]
          },
          "metadata": {}
        },
        {
          "output_type": "display_data",
          "data": {
            "text/plain": [
              "<IPython.core.display.HTML object>"
            ],
            "text/html": [
              "Syncing run <strong><a href='https://wandb.ai/kim4448-purdue-university/sentence-embedding-comparison/runs/czruvb6c' target=\"_blank\">super-mountain-21</a></strong> to <a href='https://wandb.ai/kim4448-purdue-university/sentence-embedding-comparison' target=\"_blank\">Weights & Biases</a> (<a href='https://wandb.me/run' target=\"_blank\">docs</a>)<br/>"
            ]
          },
          "metadata": {}
        },
        {
          "output_type": "display_data",
          "data": {
            "text/plain": [
              "<IPython.core.display.HTML object>"
            ],
            "text/html": [
              " View project at <a href='https://wandb.ai/kim4448-purdue-university/sentence-embedding-comparison' target=\"_blank\">https://wandb.ai/kim4448-purdue-university/sentence-embedding-comparison</a>"
            ]
          },
          "metadata": {}
        },
        {
          "output_type": "display_data",
          "data": {
            "text/plain": [
              "<IPython.core.display.HTML object>"
            ],
            "text/html": [
              " View run at <a href='https://wandb.ai/kim4448-purdue-university/sentence-embedding-comparison/runs/czruvb6c' target=\"_blank\">https://wandb.ai/kim4448-purdue-university/sentence-embedding-comparison/runs/czruvb6c</a>"
            ]
          },
          "metadata": {}
        },
        {
          "output_type": "display_data",
          "data": {
            "text/plain": [
              "<IPython.core.display.HTML object>"
            ],
            "text/html": [
              "<style>\n",
              "    table.wandb td:nth-child(1) { padding: 0 10px; text-align: left ; width: auto;} td:nth-child(2) {text-align: left ; width: 100%}\n",
              "    .wandb-row { display: flex; flex-direction: row; flex-wrap: wrap; justify-content: flex-start; width: 100% }\n",
              "    .wandb-col { display: flex; flex-direction: column; flex-basis: 100%; flex: 1; padding: 10px; }\n",
              "    </style>\n",
              "<div class=\"wandb-row\"><div class=\"wandb-col\"><h3>Run history:</h3><br/><table class=\"wandb\"><tr><td>diffcse_accuracy</td><td>▁▁██▁██▁▁███████▁▁█▁▁▁▁███</td></tr><tr><td>diffcse_similarity</td><td>▆▄▄▄▂▃▇▁▂▅▇▆▄▃▇▆▇█▅▇▅▇▁▅▆▆</td></tr><tr><td>simcse_accuracy</td><td>▁█▁██▁▁████▁▁███▁▁█▁█▁█▁█▁</td></tr><tr><td>simcse_similarity</td><td>▅▂▅▆▁▄▅▅▅▇▇▅▅▅█▆▇▇▇▇▄▆▂▅▇▅</td></tr></table><br/></div><div class=\"wandb-col\"><h3>Run summary:</h3><br/><table class=\"wandb\"><tr><td>diffcse_accuracy</td><td>1</td></tr><tr><td>diffcse_prediction</td><td>Similar</td></tr><tr><td>diffcse_similarity</td><td>0.91797</td></tr><tr><td>label</td><td>positive</td></tr><tr><td>sentence1</td><td>The swimmer set a ne...</td></tr><tr><td>sentence2</td><td>The swimmer broke hi...</td></tr><tr><td>simcse_accuracy</td><td>0</td></tr><tr><td>simcse_prediction</td><td>Dissimilar</td></tr><tr><td>simcse_similarity</td><td>0.69566</td></tr></table><br/></div></div>"
            ]
          },
          "metadata": {}
        },
        {
          "output_type": "display_data",
          "data": {
            "text/plain": [
              "<IPython.core.display.HTML object>"
            ],
            "text/html": [
              " View run <strong style=\"color:#cdcd00\">super-mountain-21</strong> at: <a href='https://wandb.ai/kim4448-purdue-university/sentence-embedding-comparison/runs/czruvb6c' target=\"_blank\">https://wandb.ai/kim4448-purdue-university/sentence-embedding-comparison/runs/czruvb6c</a><br/> View project at: <a href='https://wandb.ai/kim4448-purdue-university/sentence-embedding-comparison' target=\"_blank\">https://wandb.ai/kim4448-purdue-university/sentence-embedding-comparison</a><br/>Synced 5 W&B file(s), 0 media file(s), 0 artifact file(s) and 0 other file(s)"
            ]
          },
          "metadata": {}
        },
        {
          "output_type": "display_data",
          "data": {
            "text/plain": [
              "<IPython.core.display.HTML object>"
            ],
            "text/html": [
              "Find logs at: <code>./wandb/run-20241110_220054-czruvb6c/logs</code>"
            ]
          },
          "metadata": {}
        },
        {
          "output_type": "stream",
          "name": "stdout",
          "text": [
            "Final accuracy of SimCSE: 53.85%\n",
            "Final accuracy of DiffCSE: 57.69%\n"
          ]
        }
      ]
    },
    {
      "cell_type": "code",
      "source": [
        "import matplotlib.pyplot as plt\n",
        "\n",
        "\n",
        "models = ['SimCSE', 'DiffCSE']\n",
        "accuracies = [simcse_final_accuracy, diffcse_final_accuracy]\n",
        "\n",
        "plt.figure(figsize=(8, 6))\n",
        "plt.bar(models, accuracies, color=['blue', 'green'])\n",
        "\n",
        "plt.title('Accuracy Comparison of SimCSE and DiffCSE', fontsize=14)\n",
        "plt.xlabel('Model', fontsize=12)\n",
        "plt.ylabel('Accuracy (%)', fontsize=12)\n",
        "\n",
        "for i, accuracy in enumerate(accuracies):\n",
        "    plt.text(i, accuracy + 2, f'{accuracy}%', ha='center', fontsize=12)\n",
        "\n",
        "plt.tight_layout()\n",
        "plt.show()\n"
      ],
      "metadata": {
        "colab": {
          "base_uri": "https://localhost:8080/",
          "height": 607
        },
        "id": "YbVtZdj61k21",
        "outputId": "b6bb1b7e-a538-4268-8bd9-466e6213d912"
      },
      "execution_count": 21,
      "outputs": [
        {
          "output_type": "display_data",
          "data": {
            "text/plain": [
              "<Figure size 800x600 with 1 Axes>"
            ],
            "image/png": "[encoded data removed]"
          },
          "metadata": {}
        }
      ]
    },
    {
      "cell_type": "code",
      "source": [
        "!pip install openai==0.28\n",
        "import openai\n",
        "from sentence_transformers import SentenceTransformer\n",
        "from sklearn.metrics.pairwise import cosine_similarity\n",
        "\n",
        "\n",
        "simcse_model = SentenceTransformer('sentence-transformers/all-MiniLM-L6-v2')\n",
        "def get_ai_feedback(sentence1, sentence2):\n",
        "    prompt = f\"Are these two sentences similar or different?\\n\\nSentence 1: {sentence1}\\nSentence 2: {sentence2}\\nAnswer with 'Similar' or 'Different'.\"\n",
        "\n",
        "    response = openai.ChatCompletion.create(\n",
        "        model=\"gpt-3.5-turbo\",\n",
        "        messages=[\n",
        "            {\"role\": \"system\", \"content\": \"You are a helpful assistant.\"},\n",
        "            {\"role\": \"user\", \"content\": prompt},\n",
        "        ],\n",
        "        max_tokens=10,\n",
        "        temperature=0\n",
        "    )\n",
        "\n",
        "    feedback = response['choices'][0]['message']['content'].strip()\n",
        "    return feedback\n",
        "\n",
        "def train_with_ai_feedback(sentence_pairs, threshold=0.7):\n",
        "    results = []\n",
        "\n",
        "    for sentence_pair in sentence_pairs:\n",
        "        sentence1, sentence2, label = sentence_pair\n",
        "\n",
        "        simcse_embeddings = simcse_model.encode([sentence1, sentence2])\n",
        "\n",
        "        similarity = cosine_similarity([simcse_embeddings[0]], [simcse_embeddings[1]])[0][0]\n",
        "\n",
        "        ai_feedback = get_ai_feedback(sentence1, sentence2)\n",
        "\n",
        "        if ai_feedback == 'Similar':\n",
        "            ai_prediction = 1\n",
        "        else:\n",
        "            ai_prediction = 0\n",
        "\n",
        "        simcse_prediction = 1 if similarity >= threshold else 0\n",
        "        simcse_accuracy = 1 if simcse_prediction == (1 if label == 'positive' else 0) else 0\n",
        "\n",
        "        results.append({\n",
        "            \"sentence1\": sentence1,\n",
        "            \"sentence2\": sentence2,\n",
        "            \"label\": label,\n",
        "            \"similarity_score\": similarity,\n",
        "            \"ai_feedback\": ai_feedback,\n",
        "            \"simcse_prediction\": 'Similar' if simcse_prediction == 1 else 'Dissimilar',\n",
        "            \"accuracy\": simcse_accuracy,\n",
        "            \"ai_prediction\": ai_feedback\n",
        "        })\n",
        "\n",
        "    return results\n",
        "\n",
        "sentence_pairs = [\n",
        "    (\"The quarterback threw an interception.\", \"The quarterback threw a perfect pass.\", 'negative'),\n",
        "    (\"The track team is ready for the upcoming race.\", \"The football team is prepared for their next game.\", 'negative'),\n",
        "    (\"The baseball player made an unbelievable catch.\", \"The baseball team made a diving catch in the outfield.\", 'positive'),\n",
        "]\n",
        "results = train_with_ai_feedback(sentence_pairs)\n",
        "\n",
        "for result in results:\n",
        "    print(f\"Sentence 1: {result['sentence1']}\")\n",
        "    print(f\"Sentence 2: {result['sentence2']}\")\n",
        "    print(f\"Label: {result['label']}\")\n",
        "    print(f\"SimCSE Prediction: {result['simcse_prediction']} | AI Feedback: {result['ai_prediction']}\")\n",
        "    print(f\"Similarity Score: {result['similarity_score']:.2f}\\n\")\n"
      ],
      "metadata": {
        "colab": {
          "base_uri": "https://localhost:8080/"
        },
        "id": "AfeFOrE-2Ho1",
        "outputId": "5ced1c73-fa73-41b4-864b-18dbaf14eb87"
      },
      "execution_count": 24,
      "outputs": [
        {
          "output_type": "stream",
          "name": "stdout",
          "text": [
            "Requirement already satisfied: openai==0.28 in /usr/local/lib/python3.10/dist-packages (0.28.0)\n",
            "Requirement already satisfied: requests>=2.20 in /usr/local/lib/python3.10/dist-packages (from openai==0.28) (2.32.3)\n",
            "Requirement already satisfied: tqdm in /usr/local/lib/python3.10/dist-packages (from openai==0.28) (4.66.6)\n",
            "Requirement already satisfied: aiohttp in /usr/local/lib/python3.10/dist-packages (from openai==0.28) (3.10.10)\n",
            "Requirement already satisfied: charset-normalizer<4,>=2 in /usr/local/lib/python3.10/dist-packages (from requests>=2.20->openai==0.28) (3.4.0)\n",
            "Requirement already satisfied: idna<4,>=2.5 in /usr/local/lib/python3.10/dist-packages (from requests>=2.20->openai==0.28) (3.10)\n",
            "Requirement already satisfied: urllib3<3,>=1.21.1 in /usr/local/lib/python3.10/dist-packages (from requests>=2.20->openai==0.28) (2.2.3)\n",
            "Requirement already satisfied: certifi>=2017.4.17 in /usr/local/lib/python3.10/dist-packages (from requests>=2.20->openai==0.28) (2024.8.30)\n",
            "Requirement already satisfied: aiohappyeyeballs>=2.3.0 in /usr/local/lib/python3.10/dist-packages (from aiohttp->openai==0.28) (2.4.3)\n",
            "Requirement already satisfied: aiosignal>=1.1.2 in /usr/local/lib/python3.10/dist-packages (from aiohttp->openai==0.28) (1.3.1)\n",
            "Requirement already satisfied: attrs>=17.3.0 in /usr/local/lib/python3.10/dist-packages (from aiohttp->openai==0.28) (24.2.0)\n",
            "Requirement already satisfied: frozenlist>=1.1.1 in /usr/local/lib/python3.10/dist-packages (from aiohttp->openai==0.28) (1.5.0)\n",
            "Requirement already satisfied: multidict<7.0,>=4.5 in /usr/local/lib/python3.10/dist-packages (from aiohttp->openai==0.28) (6.1.0)\n",
            "Requirement already satisfied: yarl<2.0,>=1.12.0 in /usr/local/lib/python3.10/dist-packages (from aiohttp->openai==0.28) (1.17.0)\n",
            "Requirement already satisfied: async-timeout<5.0,>=4.0 in /usr/local/lib/python3.10/dist-packages (from aiohttp->openai==0.28) (4.0.3)\n",
            "Requirement already satisfied: typing-extensions>=4.1.0 in /usr/local/lib/python3.10/dist-packages (from multidict<7.0,>=4.5->aiohttp->openai==0.28) (4.12.2)\n",
            "Requirement already satisfied: propcache>=0.2.0 in /usr/local/lib/python3.10/dist-packages (from yarl<2.0,>=1.12.0->aiohttp->openai==0.28) (0.2.0)\n",
            "Sentence 1: The quarterback threw an interception.\n",
            "Sentence 2: The quarterback threw a perfect pass.\n",
            "Label: negative\n",
            "SimCSE Prediction: Similar | AI Feedback: Different\n",
            "Similarity Score: 0.70\n",
            "\n",
            "Sentence 1: The track team is ready for the upcoming race.\n",
            "Sentence 2: The football team is prepared for their next game.\n",
            "Label: negative\n",
            "SimCSE Prediction: Dissimilar | AI Feedback: Different\n",
            "Similarity Score: 0.40\n",
            "\n",
            "Sentence 1: The baseball player made an unbelievable catch.\n",
            "Sentence 2: The baseball team made a diving catch in the outfield.\n",
            "Label: positive\n",
            "SimCSE Prediction: Dissimilar | AI Feedback: Different\n",
            "Similarity Score: 0.66\n",
            "\n"
          ]
        }
      ]
    },
    {
      "cell_type": "code",
      "source": [
        "import torch\n",
        "import torch.nn as nn\n",
        "from sklearn.metrics.pairwise import cosine_similarity\n",
        "from sentence_transformers import SentenceTransformer\n",
        "import openai\n",
        "simcse_model = SentenceTransformer('sentence-transformers/all-MiniLM-L6-v2')\n",
        "\n",
        "def get_ai_feedback(sentence1, sentence2):\n",
        "    prompt = f\"Are these two sentences similar or different?\\n\\nSentence 1: {sentence1}\\nSentence 2: {sentence2}\\nAnswer with 'Similar' or 'Different'.\"\n",
        "\n",
        "    response = openai.ChatCompletion.create(\n",
        "        model=\"gpt-3.5-turbo\",\n",
        "        messages=[\n",
        "            {\"role\": \"system\", \"content\": \"You are a helpful assistant.\"},\n",
        "            {\"role\": \"user\", \"content\": prompt},\n",
        "        ],\n",
        "        max_tokens=10,\n",
        "        temperature=0\n",
        "    )\n",
        "\n",
        "    feedback = response['choices'][0]['message']['content'].strip()\n",
        "    return feedback\n",
        "\n",
        "class ContrastiveLossWithAI(nn.Module):\n",
        "    def __init__(self, margin=0.3):\n",
        "        super(ContrastiveLossWithAI, self).__init__()\n",
        "        self.margin = margin\n",
        "\n",
        "    def forward(self, embeddings1, embeddings2, labels):\n",
        "        cosine_sim = cosine_similarity(embeddings1.cpu(), embeddings2.cpu())[0][0]\n",
        "\n",
        "        loss = torch.mean((1 - labels) * torch.pow(cosine_sim, 2) +\n",
        "                          labels * torch.pow(torch.clamp(self.margin - cosine_sim, min=0.0), 2))\n",
        "        return loss\n",
        "\n",
        "def test_with_ai_feedback(sentence_pairs):\n",
        "    simcse_model.eval()\n",
        "\n",
        "    correct = 0\n",
        "    total = 0\n",
        "\n",
        "    for sentence1, sentence2, correct_label in sentence_pairs:\n",
        "        embeddings1 = simcse_model.encode([sentence1], convert_to_tensor=True)\n",
        "        embeddings2 = simcse_model.encode([sentence2], convert_to_tensor=True)\n",
        "\n",
        "        cosine_sim = cosine_similarity(embeddings1.cpu(), embeddings2.cpu())[0][0]\n",
        "\n",
        "        ai_feedback = get_ai_feedback(sentence1, sentence2)\n",
        "\n",
        "        if cosine_sim > 0.5:\n",
        "            model_prediction = 'Similar'\n",
        "        else:\n",
        "            model_prediction = 'Different'\n",
        "\n",
        "        if model_prediction == ai_feedback:\n",
        "            correct += 1\n",
        "        total += 1\n",
        "\n",
        "        print(f\"Sentence 1: {sentence1}\")\n",
        "        print(f\"Sentence 2: {sentence2}\")\n",
        "        print(f\"Cosine Similarity: {cosine_sim:.4f}\")\n",
        "        print(f\"AI Feedback: {ai_feedback}\")\n",
        "        print(f\"Model Prediction: {model_prediction}\")\n",
        "        print(f\"Correct: {model_prediction == ai_feedback}\")\n",
        "        print(\"-\" * 50)\n",
        "\n",
        "    accuracy = correct / total * 100\n",
        "    print(f\"Accuracy: {accuracy:.2f}%\")\n",
        "\n",
        "test_sentence_pairs = [\n",
        "    (\"The quarterback threw an interception.\", \"The quarterback threw a perfect pass.\", 'Different'),\n",
        "    (\"The track team is ready for the upcoming race.\", \"The football team is prepared for their next game.\", 'Different'),\n",
        "    (\"The baseball player made an unbelievable catch.\", \"The baseball team made a diving catch in the outfield.\", 'Similar'),\n",
        "    (\"The soccer team is practicing hard.\", \"The basketball team is working out for the next season.\", 'Different'),\n",
        "    (\"The player scored a goal in the final minute.\", \"The match ended with a late goal by the striker.\", 'Similar'),\n",
        "]\n",
        "\n",
        "test_with_ai_feedback(test_sentence_pairs)\n"
      ],
      "metadata": {
        "colab": {
          "base_uri": "https://localhost:8080/"
        },
        "id": "v4WsMJxQ3MUM",
        "outputId": "74dc20e6-80d8-430f-d34a-b1c36727192e"
      },
      "execution_count": 26,
      "outputs": [
        {
          "output_type": "stream",
          "name": "stdout",
          "text": [
            "Sentence 1: The quarterback threw an interception.\n",
            "Sentence 2: The quarterback threw a perfect pass.\n",
            "Cosine Similarity: 0.7017\n",
            "AI Feedback: Different\n",
            "Model Prediction: Similar\n",
            "Correct: False\n",
            "--------------------------------------------------\n",
            "Sentence 1: The track team is ready for the upcoming race.\n",
            "Sentence 2: The football team is prepared for their next game.\n",
            "Cosine Similarity: 0.4049\n",
            "AI Feedback: Different\n",
            "Model Prediction: Different\n",
            "Correct: True\n",
            "--------------------------------------------------\n",
            "Sentence 1: The baseball player made an unbelievable catch.\n",
            "Sentence 2: The baseball team made a diving catch in the outfield.\n",
            "Cosine Similarity: 0.6564\n",
            "AI Feedback: Different\n",
            "Model Prediction: Similar\n",
            "Correct: False\n",
            "--------------------------------------------------\n",
            "Sentence 1: The soccer team is practicing hard.\n",
            "Sentence 2: The basketball team is working out for the next season.\n",
            "Cosine Similarity: 0.3869\n",
            "AI Feedback: Different\n",
            "Model Prediction: Different\n",
            "Correct: True\n",
            "--------------------------------------------------\n",
            "Sentence 1: The player scored a goal in the final minute.\n",
            "Sentence 2: The match ended with a late goal by the striker.\n",
            "Cosine Similarity: 0.7403\n",
            "AI Feedback: Similar\n",
            "Model Prediction: Similar\n",
            "Correct: True\n",
            "--------------------------------------------------\n",
            "Accuracy: 60.00%\n"
          ]
        }
      ]
    },
    {
      "cell_type": "code",
      "source": [
        "import torch\n",
        "from torch.utils.data import DataLoader, TensorDataset\n",
        "from sklearn.model_selection import train_test_split\n",
        "from transformers import AutoModel, AutoTokenizer\n",
        "from sklearn.metrics.pairwise import cosine_similarity\n",
        "import numpy as np\n",
        "\n",
        "class ContrastiveLoss(torch.nn.Module):\n",
        "    def __init__(self, margin=0.3):\n",
        "        super(ContrastiveLoss, self).__init__()\n",
        "        self.margin = margin\n",
        "\n",
        "    def forward(self, embeddings1, embeddings2, labels):\n",
        "        cosine_sim = torch.nn.functional.cosine_similarity(embeddings1, embeddings2)\n",
        "        loss = (1 - labels) * torch.pow(torch.clamp(self.margin - cosine_sim, min=0), 2) + \\\n",
        "               labels * torch.pow(cosine_sim, 2)\n",
        "        return loss.mean()\n",
        "\n",
        "class SimCSEModel(torch.nn.Module):\n",
        "    def __init__(self, model_name='sentence-transformers/all-MiniLM-L6-v2'):\n",
        "        super(SimCSEModel, self).__init__()\n",
        "        self.model = AutoModel.from_pretrained(model_name)\n",
        "        self.tokenizer = AutoTokenizer.from_pretrained(model_name)\n",
        "\n",
        "    def encode(self, input_ids, attention_mask):\n",
        "        outputs = self.model(input_ids=input_ids, attention_mask=attention_mask)\n",
        "        embeddings = outputs.pooler_output\n",
        "        return embeddings\n",
        "\n",
        "sports_data = [\n",
        "    (\"The soccer team won the match 2-1.\", \"The soccer team beat the opponent 2-1 in the game.\", 'Similar'),\n",
        "    (\"The football game had an unexpected turn.\", \"The match ended with a dramatic finish.\", 'Similar'),\n",
        "    (\"The basketball team scored a last-minute 3-pointer.\", \"The basketball team was trailing the whole game.\", 'Different'),\n",
        "    (\"The athlete broke the world record.\", \"The runner finished the race in under 10 seconds.\", 'Similar'),\n",
        "    (\"The baseball player hit a home run.\", \"The player missed the ball during batting practice.\", 'Different'),\n",
        "    (\"The tennis match was canceled due to rain.\", \"The tennis game was postponed because of bad weather.\", 'Similar'),\n",
        "    (\"The boxer knocked out his opponent in the 5th round.\", \"The boxer won by knockout in the 5th round.\", 'Similar'),\n",
        "    (\"The swimmer won a gold medal in the 200m freestyle.\", \"The swimmer placed first in the 200m freestyle event.\", 'Similar'),\n",
        "    (\"The player scored a touchdown in the final seconds.\", \"The football team won with a touchdown in the last minute.\", 'Similar'),\n",
        "    (\"The coach was proud of the team's performance.\", \"The team coach congratulated the players for their effort.\", 'Similar')\n",
        "]\n",
        "\n",
        "def preprocess_data(data):\n",
        "    sentence_pairs = []\n",
        "    labels = []\n",
        "    for sentence1, sentence2, label in data:\n",
        "        sentence_pairs.append((sentence1, sentence2))\n",
        "        labels.append(1 if label == 'Similar' else 0)\n",
        "    return sentence_pairs, labels\n",
        "\n",
        "sentence_pairs, labels = preprocess_data(sports_data)\n",
        "train_pairs, val_pairs, train_labels, val_labels = train_test_split(sentence_pairs, labels, test_size=0.2, random_state=42)\n",
        "\n",
        "train_labels = torch.tensor(train_labels)\n",
        "val_labels = torch.tensor(val_labels)\n",
        "\n",
        "def tokenize_pairs(pairs, tokenizer):\n",
        "    texts1 = [pair[0] for pair in pairs]\n",
        "    texts2 = [pair[1] for pair in pairs]\n",
        "    encoded_input1 = tokenizer(texts1, padding=True, truncation=True, max_length=128, return_tensors='pt')\n",
        "    encoded_input2 = tokenizer(texts2, padding=True, truncation=True, max_length=128, return_tensors='pt')\n",
        "    return encoded_input1['input_ids'], encoded_input1['attention_mask'], encoded_input2['input_ids'], encoded_input2['attention_mask']\n",
        "\n",
        "tokenizer = AutoTokenizer.from_pretrained('sentence-transformers/all-MiniLM-L6-v2')\n",
        "\n",
        "train_input_ids1, train_attention_mask1, train_input_ids2, train_attention_mask2 = tokenize_pairs(train_pairs, tokenizer)\n",
        "val_input_ids1, val_attention_mask1, val_input_ids2, val_attention_mask2 = tokenize_pairs(val_pairs, tokenizer)\n",
        "\n",
        "train_dataset = TensorDataset(train_input_ids1, train_attention_mask1, train_input_ids2, train_attention_mask2, train_labels)\n",
        "train_loader = DataLoader(train_dataset, batch_size=16, shuffle=True)\n",
        "\n",
        "val_dataset = TensorDataset(val_input_ids1, val_attention_mask1, val_input_ids2, val_attention_mask2, val_labels)\n",
        "val_loader = DataLoader(val_dataset, batch_size=16, shuffle=False)\n",
        "\n",
        "simcse_model = SimCSEModel()\n",
        "\n",
        "optimizer = torch.optim.Adam(simcse_model.parameters(), lr=5e-5)\n",
        "\n",
        "def train_model():\n",
        "    simcse_model.train()\n",
        "    for epoch in range(5):\n",
        "        for batch in train_loader:\n",
        "            input_ids1, attention_mask1, input_ids2, attention_mask2, labels = batch\n",
        "            optimizer.zero_grad()\n",
        "\n",
        "            embeddings1 = simcse_model.encode(input_ids1, attention_mask1)\n",
        "            embeddings2 = simcse_model.encode(input_ids2, attention_mask2)\n",
        "\n",
        "            loss_fn = ContrastiveLoss()\n",
        "            loss = loss_fn(embeddings1, embeddings2, labels)\n",
        "            loss.backward()\n",
        "            optimizer.step()\n",
        "        print(f\"Epoch {epoch+1}, Loss: {loss.item()}\")\n",
        "\n",
        "\n",
        "def test_model():\n",
        "    simcse_model.eval()\n",
        "    correct = 0\n",
        "    total = 0\n",
        "    threshold = 0.6\n",
        "    with torch.no_grad():\n",
        "        for batch in test_loader:\n",
        "            input_ids1, attention_mask1, input_ids2, attention_mask2, labels = batch\n",
        "            embeddings1 = simcse_model.encode(input_ids1, attention_mask1)\n",
        "            embeddings2 = simcse_model.encode(input_ids2, attention_mask2)\n",
        "\n",
        "            cosine_sim = torch.nn.functional.cosine_similarity(embeddings1, embeddings2)\n",
        "\n",
        "            for i in range(len(labels)):\n",
        "                prediction = 1 if cosine_sim[i] > threshold else 0\n",
        "                correct += (prediction == labels[i].item())\n",
        "\n",
        "            total += len(labels)\n",
        "\n",
        "    accuracy = 100 * correct / total\n",
        "    print(f\"Test Accuracy on Unseen Sentences: {accuracy:.2f}%\")\n",
        "\n",
        "train_model()\n",
        "\n",
        "test_data = [\n",
        "    (\"The soccer team scored a penalty in the final minute.\", \"The soccer team won the match with a last-minute penalty.\", 'Similar'),\n",
        "    (\"The basketball team won the championship trophy.\", \"The basketball team was defeated in the finals.\", 'Different'),\n",
        "    (\"The swimmer broke the national record in the 100m freestyle.\", \"The swimmer swam the 100m freestyle in record time.\", 'Similar'),\n",
        "    (\"The runner finished the marathon in under two hours.\", \"The runner completed the race in record time.\", 'Similar'),\n",
        "    (\"The football team lost to their rivals by a touchdown.\", \"The football team was defeated by a touchdown in the final minutes.\", 'Similar'),\n",
        "    (\"The baseball team won their game by a grand slam.\", \"The baseball team lost their match by a close margin.\", 'Different'),\n",
        "    (\"The coach gave an inspiring speech before the game.\", \"The team was motivated by the coach’s pre-game speech.\", 'Similar'),\n",
        "    (\"The tennis player won the final with a strong backhand.\", \"The tennis player lost the match despite a good backhand.\", 'Different'),\n",
        "    (\"The boxer defeated his opponent with a knockout punch.\", \"The boxer lost by decision in a five-round match.\", 'Different'),\n",
        "    (\"The hockey team celebrated their victory after scoring the winning goal.\", \"The hockey team scored the winning goal in overtime.\", 'Similar')\n",
        "]\n",
        "\n",
        "test_sentence_pairs, test_labels = preprocess_data(test_data)\n",
        "test_labels = torch.tensor(test_labels)\n",
        "\n",
        "test_input_ids1, test_attention_mask1, test_input_ids2, test_attention_mask2 = tokenize_pairs(test_sentence_pairs, tokenizer)\n",
        "\n",
        "test_dataset = TensorDataset(test_input_ids1, test_attention_mask1, test_input_ids2, test_attention_mask2, test_labels)\n",
        "test_loader = DataLoader(test_dataset, batch_size=16, shuffle=False)\n",
        "\n",
        "test_model()\n"
      ],
      "metadata": {
        "colab": {
          "base_uri": "https://localhost:8080/"
        },
        "id": "fNPR8mzdDqvr",
        "outputId": "e508a527-b120-42fa-8247-99720541fb74"
      },
      "execution_count": 48,
      "outputs": [
        {
          "output_type": "stream",
          "name": "stdout",
          "text": [
            "Epoch 1, Loss: 0.49081453680992126\n",
            "Epoch 2, Loss: 0.38812345266342163\n",
            "Epoch 3, Loss: 0.362373948097229\n",
            "Epoch 4, Loss: 0.2556438446044922\n",
            "Epoch 5, Loss: 0.1941322386264801\n",
            "Test Accuracy on Unseen Sentences: 70.00%\n"
          ]
        }
      ]
    },
    {
      "cell_type": "code",
      "source": [],
      "metadata": {
        "id": "kYP1F5k_WRBh"
      },
      "execution_count": null,
      "outputs": []
    }
  ]
}