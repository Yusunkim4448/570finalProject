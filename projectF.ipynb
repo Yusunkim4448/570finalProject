{
  "nbformat": 4,
  "nbformat_minor": 0,
  "metadata": {
    "colab": {
      "provenance": [],
      "authorship_tag": "ABX9TyNZc7X9KH9Cs1vutkqhFeSK",
      "include_colab_link": true
    },
    "kernelspec": {
      "name": "python3",
      "display_name": "Python 3"
    },
    "language_info": {
      "name": "python"
    }
  },
  "cells": [
    {
      "cell_type": "markdown",
      "metadata": {
        "id": "view-in-github",
        "colab_type": "text"
      },
      "source": [
        "<a href=\"https://colab.research.google.com/github/Yusunkim4448/570finalProject/blob/main/projectF.ipynb\" target=\"_parent\"><img src=\"https://colab.research.google.com/assets/colab-badge.svg\" alt=\"Open In Colab\"/></a>"
      ]
    },
    {
      "cell_type": "code",
      "execution_count": 2,
      "metadata": {
        "colab": {
          "base_uri": "https://localhost:8080/",
          "height": 1000
        },
        "id": "8r8X-0BQo904",
        "outputId": "5505a8bd-b29c-4c91-92b0-e630265e3d9d"
      },
      "outputs": [
        {
          "output_type": "stream",
          "name": "stdout",
          "text": [
            "Requirement already satisfied: transformers in /usr/local/lib/python3.10/dist-packages (4.44.2)\n",
            "Requirement already satisfied: torch in /usr/local/lib/python3.10/dist-packages (2.5.0+cu121)\n",
            "Requirement already satisfied: sentence-transformers in /usr/local/lib/python3.10/dist-packages (3.2.1)\n",
            "Requirement already satisfied: datasets in /usr/local/lib/python3.10/dist-packages (3.1.0)\n",
            "Requirement already satisfied: filelock in /usr/local/lib/python3.10/dist-packages (from transformers) (3.16.1)\n",
            "Requirement already satisfied: huggingface-hub<1.0,>=0.23.2 in /usr/local/lib/python3.10/dist-packages (from transformers) (0.24.7)\n",
            "Requirement already satisfied: numpy>=1.17 in /usr/local/lib/python3.10/dist-packages (from transformers) (1.26.4)\n",
            "Requirement already satisfied: packaging>=20.0 in /usr/local/lib/python3.10/dist-packages (from transformers) (24.1)\n",
            "Requirement already satisfied: pyyaml>=5.1 in /usr/local/lib/python3.10/dist-packages (from transformers) (6.0.2)\n",
            "Requirement already satisfied: regex!=2019.12.17 in /usr/local/lib/python3.10/dist-packages (from transformers) (2024.9.11)\n",
            "Requirement already satisfied: requests in /usr/local/lib/python3.10/dist-packages (from transformers) (2.32.3)\n",
            "Requirement already satisfied: safetensors>=0.4.1 in /usr/local/lib/python3.10/dist-packages (from transformers) (0.4.5)\n",
            "Requirement already satisfied: tokenizers<0.20,>=0.19 in /usr/local/lib/python3.10/dist-packages (from transformers) (0.19.1)\n",
            "Requirement already satisfied: tqdm>=4.27 in /usr/local/lib/python3.10/dist-packages (from transformers) (4.66.6)\n",
            "Requirement already satisfied: typing-extensions>=4.8.0 in /usr/local/lib/python3.10/dist-packages (from torch) (4.12.2)\n",
            "Requirement already satisfied: networkx in /usr/local/lib/python3.10/dist-packages (from torch) (3.4.2)\n",
            "Requirement already satisfied: jinja2 in /usr/local/lib/python3.10/dist-packages (from torch) (3.1.4)\n",
            "Requirement already satisfied: fsspec in /usr/local/lib/python3.10/dist-packages (from torch) (2024.9.0)\n",
            "Requirement already satisfied: sympy==1.13.1 in /usr/local/lib/python3.10/dist-packages (from torch) (1.13.1)\n",
            "Requirement already satisfied: mpmath<1.4,>=1.1.0 in /usr/local/lib/python3.10/dist-packages (from sympy==1.13.1->torch) (1.3.0)\n",
            "Requirement already satisfied: scikit-learn in /usr/local/lib/python3.10/dist-packages (from sentence-transformers) (1.5.2)\n",
            "Requirement already satisfied: scipy in /usr/local/lib/python3.10/dist-packages (from sentence-transformers) (1.13.1)\n",
            "Requirement already satisfied: Pillow in /usr/local/lib/python3.10/dist-packages (from sentence-transformers) (10.4.0)\n",
            "Requirement already satisfied: pyarrow>=15.0.0 in /usr/local/lib/python3.10/dist-packages (from datasets) (17.0.0)\n",
            "Requirement already satisfied: dill<0.3.9,>=0.3.0 in /usr/local/lib/python3.10/dist-packages (from datasets) (0.3.8)\n",
            "Requirement already satisfied: pandas in /usr/local/lib/python3.10/dist-packages (from datasets) (2.2.2)\n",
            "Requirement already satisfied: xxhash in /usr/local/lib/python3.10/dist-packages (from datasets) (3.5.0)\n",
            "Requirement already satisfied: multiprocess<0.70.17 in /usr/local/lib/python3.10/dist-packages (from datasets) (0.70.16)\n",
            "Requirement already satisfied: aiohttp in /usr/local/lib/python3.10/dist-packages (from datasets) (3.10.10)\n",
            "Requirement already satisfied: aiohappyeyeballs>=2.3.0 in /usr/local/lib/python3.10/dist-packages (from aiohttp->datasets) (2.4.3)\n",
            "Requirement already satisfied: aiosignal>=1.1.2 in /usr/local/lib/python3.10/dist-packages (from aiohttp->datasets) (1.3.1)\n",
            "Requirement already satisfied: attrs>=17.3.0 in /usr/local/lib/python3.10/dist-packages (from aiohttp->datasets) (24.2.0)\n",
            "Requirement already satisfied: frozenlist>=1.1.1 in /usr/local/lib/python3.10/dist-packages (from aiohttp->datasets) (1.5.0)\n",
            "Requirement already satisfied: multidict<7.0,>=4.5 in /usr/local/lib/python3.10/dist-packages (from aiohttp->datasets) (6.1.0)\n",
            "Requirement already satisfied: yarl<2.0,>=1.12.0 in /usr/local/lib/python3.10/dist-packages (from aiohttp->datasets) (1.17.0)\n",
            "Requirement already satisfied: async-timeout<5.0,>=4.0 in /usr/local/lib/python3.10/dist-packages (from aiohttp->datasets) (4.0.3)\n",
            "Requirement already satisfied: charset-normalizer<4,>=2 in /usr/local/lib/python3.10/dist-packages (from requests->transformers) (3.4.0)\n",
            "Requirement already satisfied: idna<4,>=2.5 in /usr/local/lib/python3.10/dist-packages (from requests->transformers) (3.10)\n",
            "Requirement already satisfied: urllib3<3,>=1.21.1 in /usr/local/lib/python3.10/dist-packages (from requests->transformers) (2.2.3)\n",
            "Requirement already satisfied: certifi>=2017.4.17 in /usr/local/lib/python3.10/dist-packages (from requests->transformers) (2024.8.30)\n",
            "Requirement already satisfied: MarkupSafe>=2.0 in /usr/local/lib/python3.10/dist-packages (from jinja2->torch) (3.0.2)\n",
            "Requirement already satisfied: python-dateutil>=2.8.2 in /usr/local/lib/python3.10/dist-packages (from pandas->datasets) (2.8.2)\n",
            "Requirement already satisfied: pytz>=2020.1 in /usr/local/lib/python3.10/dist-packages (from pandas->datasets) (2024.2)\n",
            "Requirement already satisfied: tzdata>=2022.7 in /usr/local/lib/python3.10/dist-packages (from pandas->datasets) (2024.2)\n",
            "Requirement already satisfied: joblib>=1.2.0 in /usr/local/lib/python3.10/dist-packages (from scikit-learn->sentence-transformers) (1.4.2)\n",
            "Requirement already satisfied: threadpoolctl>=3.1.0 in /usr/local/lib/python3.10/dist-packages (from scikit-learn->sentence-transformers) (3.5.0)\n",
            "Requirement already satisfied: six>=1.5 in /usr/local/lib/python3.10/dist-packages (from python-dateutil>=2.8.2->pandas->datasets) (1.16.0)\n",
            "Requirement already satisfied: propcache>=0.2.0 in /usr/local/lib/python3.10/dist-packages (from yarl<2.0,>=1.12.0->aiohttp->datasets) (0.2.0)\n"
          ]
        },
        {
          "output_type": "stream",
          "name": "stderr",
          "text": [
            "/usr/local/lib/python3.10/dist-packages/transformers/tokenization_utils_base.py:1601: FutureWarning: `clean_up_tokenization_spaces` was not set. It will be set to `True` by default. This behavior will be depracted in transformers v4.45, and will be then set to `False` by default. For more details check this issue: https://github.com/huggingface/transformers/issues/31884\n",
            "  warnings.warn(\n"
          ]
        },
        {
          "output_type": "display_data",
          "data": {
            "text/plain": [
              "<IPython.core.display.HTML object>"
            ],
            "text/html": [
              "Changes to your `wandb` environment variables will be ignored because your `wandb` session has already started. For more information on how to modify your settings with `wandb.init()` arguments, please refer to <a href='https://wandb.me/wandb-init' target=\"_blank\">the W&B docs</a>."
            ]
          },
          "metadata": {}
        },
        {
          "output_type": "display_data",
          "data": {
            "text/plain": [
              "<IPython.core.display.HTML object>"
            ],
            "text/html": [
              "\n",
              "    <div>\n",
              "      \n",
              "      <progress value='2' max='2' style='width:300px; height:20px; vertical-align: middle;'></progress>\n",
              "      [2/2 00:00, Epoch 1/1]\n",
              "    </div>\n",
              "    <table border=\"1\" class=\"dataframe\">\n",
              "  <thead>\n",
              " <tr style=\"text-align: left;\">\n",
              "      <th>Step</th>\n",
              "      <th>Training Loss</th>\n",
              "    </tr>\n",
              "  </thead>\n",
              "  <tbody>\n",
              "  </tbody>\n",
              "</table><p>"
            ]
          },
          "metadata": {}
        }
      ],
      "source": [
        "# Install the necessary libraries\n",
        "import os\n",
        "os.environ[\"WANDB_MODE\"] = \"disabled\"\n",
        "\n",
        "!pip install transformers torch sentence-transformers datasets\n",
        "\n",
        "import torch\n",
        "from sentence_transformers import SentenceTransformer, SentencesDataset, InputExample, losses\n",
        "from datasets import Dataset  # Import Dataset from Hugging Face's datasets library\n",
        "import random\n",
        "import numpy as np\n",
        "\n",
        "# Define sentences for training\n",
        "sports_sentences = [\n",
        "    \"The striker scored a stunning goal in the last minute.\",\n",
        "    \"The quarterback threw an interception in the final quarter.\",\n",
        "    \"A thrilling comeback saw the team winning by two points.\",\n",
        "    \"The team displayed great defense and controlled the pace of the game.\",\n",
        "]\n",
        "\n",
        "# Define pairs of sentences for contrastive learning\n",
        "examples = [InputExample(texts=[sports_sentences[i], sports_sentences[i+1]]) for i in range(0, len(sports_sentences)-1)]\n",
        "\n",
        "# Initialize the model for sentence embeddings\n",
        "simcse_model = SentenceTransformer('sentence-transformers/all-MiniLM-L6-v2')\n",
        "\n",
        "# Create SentencesDataset and DataLoader for training\n",
        "train_dataset = SentencesDataset(examples, simcse_model)\n",
        "train_dataloader = torch.utils.data.DataLoader(train_dataset, batch_size=2, shuffle=True)\n",
        "\n",
        "# Define the contrastive learning loss\n",
        "train_loss = losses.MultipleNegativesRankingLoss(simcse_model)\n",
        "\n",
        "# Train the model\n",
        "simcse_model.fit(train_objectives=[(train_dataloader, train_loss)], epochs=1, warmup_steps=100)\n"
      ]
    },
    {
      "cell_type": "code",
      "source": [
        "# Custom function to create slight paraphrases for DiffCSE\n",
        "def augment_sentence(sentence):\n",
        "    return sentence.replace(\"the\", \"a\")  # Simple augmentation example\n",
        "\n",
        "diffcse_examples = [\n",
        "    InputExample(texts=[sentence, augment_sentence(sentence)]) for sentence in sports_sentences\n",
        "]\n",
        "\n",
        "# Train DiffCSE using augmented sentences\n",
        "diffcse_dataloader = torch.utils.data.DataLoader(diffcse_examples, batch_size=2, shuffle=True)\n",
        "diffcse_model = SentenceTransformer('bert-base-uncased')\n",
        "diffcse_loss = losses.MultipleNegativesRankingLoss(diffcse_model)\n",
        "\n",
        "# Training the DiffCSE model\n",
        "diffcse_model.fit(train_objectives=[(diffcse_dataloader, diffcse_loss)], epochs=1, warmup_steps=100)\n"
      ],
      "metadata": {
        "colab": {
          "base_uri": "https://localhost:8080/",
          "height": 112
        },
        "id": "_PV6St8-pHvw",
        "outputId": "ab38a38b-eccb-4dbd-ff39-a5d86fd3cef5"
      },
      "execution_count": 3,
      "outputs": [
        {
          "output_type": "stream",
          "name": "stderr",
          "text": [
            "WARNING:sentence_transformers.SentenceTransformer:No sentence-transformers model found with name bert-base-uncased. Creating a new one with mean pooling.\n"
          ]
        },
        {
          "output_type": "display_data",
          "data": {
            "text/plain": [
              "<IPython.core.display.HTML object>"
            ],
            "text/html": [
              "\n",
              "    <div>\n",
              "      \n",
              "      <progress value='2' max='2' style='width:300px; height:20px; vertical-align: middle;'></progress>\n",
              "      [2/2 00:03, Epoch 1/1]\n",
              "    </div>\n",
              "    <table border=\"1\" class=\"dataframe\">\n",
              "  <thead>\n",
              " <tr style=\"text-align: left;\">\n",
              "      <th>Step</th>\n",
              "      <th>Training Loss</th>\n",
              "    </tr>\n",
              "  </thead>\n",
              "  <tbody>\n",
              "  </tbody>\n",
              "</table><p>"
            ]
          },
          "metadata": {}
        }
      ]
    },
    {
      "cell_type": "code",
      "source": [
        "# AI feedback integration: Adjust sentence pairs based on AI model suggestions\n",
        "# Dummy function for AI feedback to simulate similarity check\n",
        "def ai_feedback(sentence1, sentence2):\n",
        "    # Simple example: if sentence similarity is high, keep; if low, adjust (in practice, use feedback system)\n",
        "    return random.choice([True, False])\n",
        "\n",
        "# Filter and augment sentence pairs based on AI feedback\n",
        "feedback_examples = [\n",
        "    InputExample(texts=[sentence1, sentence2]) for sentence1, sentence2 in zip(sports_sentences[:-1], sports_sentences[1:])\n",
        "    if ai_feedback(sentence1, sentence2)\n",
        "]\n",
        "\n",
        "# Fine-tune SimCSE with AI feedback on sports domain\n",
        "feedback_dataloader = torch.utils.data.DataLoader(feedback_examples, batch_size=2, shuffle=True)\n",
        "feedback_loss = losses.MultipleNegativesRankingLoss(simcse_model)  # Reusing SimCSE model\n",
        "\n",
        "simcse_model.fit(train_objectives=[(feedback_dataloader, feedback_loss)], epochs=1, warmup_steps=100)\n"
      ],
      "metadata": {
        "colab": {
          "base_uri": "https://localhost:8080/",
          "height": 75
        },
        "id": "kMTGWJtMpJxV",
        "outputId": "cb221e98-bf2d-46ea-9601-b60f0c6e229e"
      },
      "execution_count": 4,
      "outputs": [
        {
          "output_type": "display_data",
          "data": {
            "text/plain": [
              "<IPython.core.display.HTML object>"
            ],
            "text/html": [
              "\n",
              "    <div>\n",
              "      \n",
              "      <progress value='1' max='1' style='width:300px; height:20px; vertical-align: middle;'></progress>\n",
              "      [1/1 00:00, Epoch 1/1]\n",
              "    </div>\n",
              "    <table border=\"1\" class=\"dataframe\">\n",
              "  <thead>\n",
              " <tr style=\"text-align: left;\">\n",
              "      <th>Step</th>\n",
              "      <th>Training Loss</th>\n",
              "    </tr>\n",
              "  </thead>\n",
              "  <tbody>\n",
              "  </tbody>\n",
              "</table><p>"
            ]
          },
          "metadata": {}
        }
      ]
    },
    {
      "cell_type": "code",
      "source": [
        "# Evaluation function to measure embedding quality using cosine similarity\n",
        "def evaluate_embeddings(model, sentence_pairs):\n",
        "    embeddings = model.encode([pair.texts for pair in sentence_pairs], convert_to_tensor=True)\n",
        "    similarities = []\n",
        "    for i in range(len(embeddings)-1):\n",
        "        similarity = torch.nn.functional.cosine_similarity(embeddings[i], embeddings[i+1], dim=0)\n",
        "        similarities.append(similarity.item())\n",
        "    return similarities\n",
        "\n",
        "# Prepare sample evaluation data\n",
        "evaluation_data = [\n",
        "    InputExample(texts=[\"The striker scored\", \"The goalkeeper made a save\"]),\n",
        "    InputExample(texts=[\"The game went to overtime\", \"It was a close game\"]),\n",
        "]\n",
        "\n",
        "# Evaluate the baseline SimCSE, DiffCSE, and fine-tuned models\n",
        "baseline_similarities = evaluate_embeddings(simcse_model, evaluation_data)\n",
        "diffcse_similarities = evaluate_embeddings(diffcse_model, evaluation_data)\n",
        "\n",
        "# Print results for model comparisons\n",
        "print(\"Baseline SimCSE Similarities:\", baseline_similarities)\n",
        "print(\"DiffCSE Similarities:\", diffcse_similarities)\n"
      ],
      "metadata": {
        "colab": {
          "base_uri": "https://localhost:8080/",
          "height": 0
        },
        "id": "P7jHTSxmpLz9",
        "outputId": "486f8ca0-1150-4bde-aa77-8e09fccbf9cf"
      },
      "execution_count": 5,
      "outputs": [
        {
          "output_type": "stream",
          "name": "stdout",
          "text": [
            "Baseline SimCSE Similarities: [0.29396378993988037]\n",
            "DiffCSE Similarities: [0.5759817361831665]\n"
          ]
        }
      ]
    },
    {
      "cell_type": "code",
      "source": [
        "import os\n",
        "import torch\n",
        "from sentence_transformers import SentenceTransformer, InputExample, losses\n",
        "from datasets import Dataset\n",
        "from transformers import pipeline\n",
        "\n",
        "# Disable WANDB (Weights and Biases)\n",
        "os.environ[\"WANDB_MODE\"] = \"disabled\"\n",
        "\n",
        "# Install necessary libraries (run this once if required)\n",
        "# !pip install transformers torch sentence-transformers datasets\n",
        "\n",
        "# Initialize the sentence transformer model\n",
        "simcse_model = SentenceTransformer('sentence-transformers/all-MiniLM-L6-v2')\n",
        "feedback_model = SentenceTransformer('sentence-transformers/all-MiniLM-L6-v2')\n",
        "\n",
        "# Define the sports sentences\n",
        "sports_sentences = [\n",
        "    \"The striker scored a stunning goal in the last minute.\",\n",
        "    \"The quarterback threw an interception in the final quarter.\",\n",
        "    \"A thrilling comeback saw the team winning by two points.\",\n",
        "    \"The team displayed great defense and controlled the pace of the game.\",\n",
        "]\n",
        "\n",
        "# Function to compute cosine similarity between two sentence embeddings\n",
        "def cosine_similarity(embedding1, embedding2):\n",
        "    return torch.nn.functional.cosine_similarity(embedding1, embedding2, dim=0).item()\n",
        "\n",
        "# Function for AI feedback based on similarity threshold (using SimCSE model)\n",
        "def ai_feedback_refined(sentence1, sentence2, threshold=0.5):  # Lower threshold to 0.5\n",
        "    # Encode the sentences to get embeddings\n",
        "    embeddings1 = feedback_model.encode([sentence1], convert_to_tensor=True)[0]  # Get tensor and flatten\n",
        "    embeddings2 = feedback_model.encode([sentence2], convert_to_tensor=True)[0]  # Get tensor and flatten\n",
        "\n",
        "    # Compute cosine similarity\n",
        "    similarity = cosine_similarity(embeddings1, embeddings2)\n",
        "\n",
        "    # Print similarity to inspect what's happening\n",
        "    print(f\"Refined Similarity between '{sentence1}' and '{sentence2}': {similarity}\")\n",
        "\n",
        "    # Return True if similarity is above the threshold, else False\n",
        "    return similarity >= threshold\n",
        "\n",
        "# Load a pre-trained NLI model (BART-large for zero-shot classification)\n",
        "nli_model = pipeline(\"zero-shot-classification\", model=\"facebook/bart-large-mnli\")\n",
        "\n",
        "# Function for AI feedback using NLI-based model\n",
        "def ai_feedback_nli(sentence1, sentence2, threshold=0.5):\n",
        "    result = nli_model(sentence1, candidate_labels=[sentence2])\n",
        "    # Use the \"score\" field to determine similarity\n",
        "    similarity = result['scores'][0]  # Similarity score between sentence1 and sentence2\n",
        "\n",
        "    # Print similarity score to inspect what's happening\n",
        "    print(f\"NLI Similarity between '{sentence1}' and '{sentence2}': {similarity}\")\n",
        "\n",
        "    return similarity >= threshold\n",
        "\n",
        "# Create sentence pairs for contrastive learning (using both feedback methods)\n",
        "examples = []\n",
        "\n",
        "# Generate feedback examples based on AI feedback system with both refined and NLI-based feedback\n",
        "for sentence1, sentence2 in zip(sports_sentences[:-1], sports_sentences[1:]):\n",
        "    if ai_feedback_refined(sentence1, sentence2):  # Use AI feedback with refined similarity threshold\n",
        "        examples.append(InputExample(texts=[sentence1, sentence2]))\n",
        "    elif ai_feedback_nli(sentence1, sentence2):  # Use AI feedback with NLI model\n",
        "        examples.append(InputExample(texts=[sentence1, sentence2]))\n",
        "\n",
        "# Check how many valid pairs passed AI feedback\n",
        "print(f\"Number of valid pairs after AI feedback: {len(examples)}\")\n",
        "\n",
        "# If no valid pairs are found, suggest augmenting the dataset or adjusting the threshold\n",
        "if len(examples) == 0:\n",
        "    print(\"No valid pairs after AI feedback. Consider adjusting the threshold or augmenting the dataset.\")\n",
        "else:\n",
        "    # Initialize the training dataloader and loss\n",
        "    train_dataloader = torch.utils.data.DataLoader(examples, batch_size=2, shuffle=True)\n",
        "    train_loss = losses.MultipleNegativesRankingLoss(simcse_model)\n",
        "\n",
        "    # Train the SimCSE model with AI feedback\n",
        "    simcse_model.fit(train_objectives=[(train_dataloader, train_loss)], epochs=1, warmup_steps=100)\n",
        "\n",
        "    # Evaluation function to measure embedding quality using cosine similarity\n",
        "    def evaluate_embeddings(model, sentence_pairs):\n",
        "        embeddings = model.encode([pair.texts for pair in sentence_pairs], convert_to_tensor=True)\n",
        "        similarities = []\n",
        "        for i in range(len(embeddings)-1):\n",
        "            similarity = torch.nn.functional.cosine_similarity(embeddings[i], embeddings[i+1], dim=0)\n",
        "            similarities.append(similarity.item())\n",
        "        return similarities\n",
        "\n",
        "    # Prepare sample evaluation data\n",
        "    evaluation_data = [\n",
        "        InputExample(texts=[\"The striker scored\", \"The goalkeeper made a save\"]),\n",
        "        InputExample(texts=[\"The game went to overtime\", \"It was a close game\"]),\n",
        "    ]\n",
        "\n",
        "    # Evaluate the fine-tuned model (with AI feedback)\n",
        "    simcse_similarities = evaluate_embeddings(simcse_model, evaluation_data)\n",
        "\n",
        "    # Print results\n",
        "    print(\"SimCSE Similarities (after AI feedback):\", simcse_similarities)\n"
      ],
      "metadata": {
        "colab": {
          "base_uri": "https://localhost:8080/",
          "height": 0
        },
        "id": "GNXEu-6TU8OE",
        "outputId": "34098862-e340-415d-ded5-14a05f7a3e33"
      },
      "execution_count": 11,
      "outputs": [
        {
          "output_type": "stream",
          "name": "stdout",
          "text": [
            "Refined Similarity between 'The striker scored a stunning goal in the last minute.' and 'The quarterback threw an interception in the final quarter.': 0.2924024760723114\n",
            "NLI Similarity between 'The striker scored a stunning goal in the last minute.' and 'The quarterback threw an interception in the final quarter.': 2.7014577426598407e-05\n",
            "Refined Similarity between 'The quarterback threw an interception in the final quarter.' and 'A thrilling comeback saw the team winning by two points.': 0.293432354927063\n",
            "NLI Similarity between 'The quarterback threw an interception in the final quarter.' and 'A thrilling comeback saw the team winning by two points.': 0.0037838383577764034\n",
            "Refined Similarity between 'A thrilling comeback saw the team winning by two points.' and 'The team displayed great defense and controlled the pace of the game.': 0.478251576423645\n",
            "NLI Similarity between 'A thrilling comeback saw the team winning by two points.' and 'The team displayed great defense and controlled the pace of the game.': 0.17857488989830017\n",
            "Number of valid pairs after AI feedback: 0\n",
            "No valid pairs after AI feedback. Consider adjusting the threshold or augmenting the dataset.\n"
          ]
        }
      ]
    },
    {
      "cell_type": "code",
      "source": [
        "# Assuming you have already collected a larger set of domain-specific sentences and feedback pairs\n",
        "sports_sentences_expanded = [\n",
        "    \"The striker scored a stunning goal in the last minute.\",\n",
        "    \"The quarterback threw an interception in the final quarter.\",\n",
        "    \"A thrilling comeback saw the team winning by two points.\",\n",
        "    \"The team displayed great defense and controlled the pace of the game.\",\n",
        "    \"The goalkeeper made a brilliant save in the final seconds.\",\n",
        "    \"The coach's strategy led to a major win.\",\n",
        "    \"The running back rushed for over 100 yards in the game.\",\n",
        "    \"The defensive line shut down the opposing team's offense.\"\n",
        "    # Add more sentences relevant to your sports domain\n",
        "]\n",
        "\n",
        "# Use the feedback functions to generate valid training pairs\n",
        "examples = []\n",
        "\n",
        "for sentence1, sentence2 in zip(sports_sentences_expanded[:-1], sports_sentences_expanded[1:]):\n",
        "    if ai_feedback_refined(sentence1, sentence2):  # Use AI feedback with refined similarity threshold\n",
        "        examples.append(InputExample(texts=[sentence1, sentence2]))\n",
        "    elif ai_feedback_nli(sentence1, sentence2):  # Use AI feedback with NLI model\n",
        "        examples.append(InputExample(texts=[sentence1, sentence2]))\n",
        "\n",
        "# Number of valid pairs after AI feedback\n",
        "print(f\"Number of valid pairs after AI feedback: {len(examples)}\")\n",
        "\n",
        "# If there are valid pairs, proceed with training\n",
        "if len(examples) > 0:\n",
        "    train_dataloader = torch.utils.data.DataLoader(examples, batch_size=2, shuffle=True)\n",
        "    train_loss = losses.MultipleNegativesRankingLoss(simcse_model)\n",
        "\n",
        "    # Train the SimCSE model with domain-specific data\n",
        "    simcse_model.fit(train_objectives=[(train_dataloader, train_loss)], epochs=1, warmup_steps=100)\n",
        "\n",
        "    print(\"Training complete!\")\n",
        "else:\n",
        "    print(\"No valid pairs for training. Consider adjusting the threshold or dataset.\")\n"
      ],
      "metadata": {
        "colab": {
          "base_uri": "https://localhost:8080/",
          "height": 0
        },
        "id": "LF43g0ibXmxS",
        "outputId": "2097ae16-8af1-41a5-a3bc-184c3be86ae7"
      },
      "execution_count": 12,
      "outputs": [
        {
          "output_type": "stream",
          "name": "stdout",
          "text": [
            "Refined Similarity between 'The striker scored a stunning goal in the last minute.' and 'The quarterback threw an interception in the final quarter.': 0.2924024760723114\n",
            "NLI Similarity between 'The striker scored a stunning goal in the last minute.' and 'The quarterback threw an interception in the final quarter.': 2.7014577426598407e-05\n",
            "Refined Similarity between 'The quarterback threw an interception in the final quarter.' and 'A thrilling comeback saw the team winning by two points.': 0.293432354927063\n",
            "NLI Similarity between 'The quarterback threw an interception in the final quarter.' and 'A thrilling comeback saw the team winning by two points.': 0.0037838383577764034\n",
            "Refined Similarity between 'A thrilling comeback saw the team winning by two points.' and 'The team displayed great defense and controlled the pace of the game.': 0.478251576423645\n",
            "NLI Similarity between 'A thrilling comeback saw the team winning by two points.' and 'The team displayed great defense and controlled the pace of the game.': 0.17857488989830017\n",
            "Refined Similarity between 'The team displayed great defense and controlled the pace of the game.' and 'The goalkeeper made a brilliant save in the final seconds.': 0.3937859535217285\n",
            "NLI Similarity between 'The team displayed great defense and controlled the pace of the game.' and 'The goalkeeper made a brilliant save in the final seconds.': 0.05302243307232857\n",
            "Refined Similarity between 'The goalkeeper made a brilliant save in the final seconds.' and 'The coach's strategy led to a major win.': 0.361537367105484\n",
            "NLI Similarity between 'The goalkeeper made a brilliant save in the final seconds.' and 'The coach's strategy led to a major win.': 0.04224452003836632\n",
            "Refined Similarity between 'The coach's strategy led to a major win.' and 'The running back rushed for over 100 yards in the game.': 0.3017326295375824\n",
            "NLI Similarity between 'The coach's strategy led to a major win.' and 'The running back rushed for over 100 yards in the game.': 0.19415776431560516\n",
            "Refined Similarity between 'The running back rushed for over 100 yards in the game.' and 'The defensive line shut down the opposing team's offense.': 0.3452123999595642\n",
            "NLI Similarity between 'The running back rushed for over 100 yards in the game.' and 'The defensive line shut down the opposing team's offense.': 1.9375020201550797e-05\n",
            "Number of valid pairs after AI feedback: 0\n",
            "No valid pairs for training. Consider adjusting the threshold or dataset.\n"
          ]
        }
      ]
    }
  ]
}